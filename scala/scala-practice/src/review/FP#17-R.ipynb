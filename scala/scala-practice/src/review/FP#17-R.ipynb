{
 "cells": [
  {
   "cell_type": "markdown",
   "metadata": {
    "slideshow": {
     "slide_type": "slide"
    }
   },
   "source": [
    "<br><br><br>\n",
    "# <center>Functional Programming #17</center>\n",
    "\n",
    "\n",
    "\n",
    "\n",
    "### <center>2018. 9. 7.</center>\n",
    "<br><br><br>"
   ]
  },
  {
   "cell_type": "code",
   "execution_count": null,
   "metadata": {
    "slideshow": {
     "slide_type": "skip"
    }
   },
   "outputs": [],
   "source": [
    "import $ivy.`org.typelevel::cats-core:1.1.0`\n",
    "\n",
    "import cats.Monoid\n",
    "import cats.instances.int._\n",
    "import cats.instances.string._\n",
    "import cats.syntax.semigroup._\n",
    "\n",
    "def foldMap[A, B: Monoid](va: Vector[A])(f: A => B): B =\n",
    "    va.map(f).foldLeft(Monoid[B].empty)(_ |+| _)"
   ]
  },
  {
   "cell_type": "markdown",
   "metadata": {
    "slideshow": {
     "slide_type": "slide"
    }
   },
   "source": [
    "<br>\n",
    "# <center>Cats - Case Study</center>\n",
    "---\n",
    "<br>\n",
    "<center>Map-Reduce: Parallelizing ***map*** and ***fold***</center>\n",
    "<br><br><br>"
   ]
  },
  {
   "cell_type": "markdown",
   "metadata": {
    "slideshow": {
     "slide_type": "slide"
    }
   },
   "source": [
    "<br>\n",
    "# <center>Map-Reduce</center>\n",
    "---\n",
    "<br>\n",
    "<center>def foldMap\\[A, B: Monoid](va: Vector[A])(f: A => B): B</center>\n",
    "<br><br><br>"
   ]
  },
  {
   "cell_type": "code",
   "execution_count": null,
   "metadata": {
    "slideshow": {
     "slide_type": "subslide"
    }
   },
   "outputs": [],
   "source": [
    "//def foldMap[A, B: Monoid](va: Vector[A])(f: A => B): B\n",
    "\n",
    "foldMap(Vector(1, 2, 3))(identity)\n",
    "foldMap(Vector(1, 2, 3))(_ + \">>> \")\n",
    "foldMap(\"Hello, world!\".toVector)(_.toString.toUpperCase)"
   ]
  },
  {
   "cell_type": "code",
   "execution_count": null,
   "metadata": {
    "slideshow": {
     "slide_type": "subslide"
    }
   },
   "outputs": [],
   "source": [
    "import cats.Monoid\n",
    "import cats.instances.int._\n",
    "import cats.instances.string._\n",
    "import cats.syntax.semigroup._\n",
    "\n",
    "def foldMap[A, B: Monoid](va: Vector[A])(f: A => B): B =\n",
    "    va.map(f).foldLeft(Monoid[B].empty)(_ |+| _)"
   ]
  },
  {
   "cell_type": "code",
   "execution_count": null,
   "metadata": {
    "slideshow": {
     "slide_type": "subslide"
    }
   },
   "outputs": [],
   "source": [
    "foldMap(Vector(1, 2, 3))(identity)\n",
    "\n",
    "foldMap(Vector(1, 2, 3))(_ + \">>> \")\n",
    "\n",
    "foldMap(\"Hello, world!\".toVector)(_.toString.toUpperCase)"
   ]
  },
  {
   "cell_type": "code",
   "execution_count": null,
   "metadata": {
    "slideshow": {
     "slide_type": "subslide"
    }
   },
   "outputs": [],
   "source": [
    "// def foldMap[A, B: Monoid](va: Vector[A])(f: A => B): B =\n",
    "//     va.map(f).foldLeft(Monoid[B].empty)(_ |+| _)\n",
    "\n",
    "def foldMap[A, B: Monoid](va: Vector[A])(f: A => B): B =\n",
    "    va.foldLeft(Monoid[B].empty)(_ |+| f(_))\n",
    "\n",
    "foldMap(Vector(1, 2, 3))(identity)\n",
    "foldMap(Vector(1, 2, 3))(_ + \">>> \")\n",
    "foldMap(\"Hello, world!\".toVector)(_.toString.toUpperCase)"
   ]
  },
  {
   "cell_type": "markdown",
   "metadata": {
    "slideshow": {
     "slide_type": "slide"
    }
   },
   "source": [
    "<br><br><br>\n",
    "# <center>Parallelizing Map-Reduce</center>\n",
    "<br><br><br>"
   ]
  },
  {
   "cell_type": "code",
   "execution_count": null,
   "metadata": {
    "slideshow": {
     "slide_type": "subslide"
    }
   },
   "outputs": [],
   "source": [
    "Runtime.getRuntime.availableProcessors"
   ]
  },
  {
   "cell_type": "code",
   "execution_count": null,
   "metadata": {
    "slideshow": {
     "slide_type": "subslide"
    }
   },
   "outputs": [],
   "source": [
    "(1 to 12).toVector.grouped(3)\n",
    "// (1 to 12).toVector.grouped(3).foreach(println)"
   ]
  },
  {
   "cell_type": "markdown",
   "metadata": {
    "slideshow": {
     "slide_type": "slide"
    }
   },
   "source": [
    "<br>\n",
    "# <center>Future - Scala</center>\n",
    "---\n",
    "<br>\n",
    "<pre>\n",
    "trait Future[+T] extends Awaitable[T]\n",
    "<br>\n",
    "object Future {\n",
    "    def apply\\[T](body: => T)(implicit executor: ExecutionContext): Future[T]\n",
    "}\n",
    "</pre>\n",
    "<br><br><br>"
   ]
  },
  {
   "cell_type": "code",
   "execution_count": null,
   "metadata": {
    "slideshow": {
     "slide_type": "subslide"
    }
   },
   "outputs": [],
   "source": [
    "import scala.concurrent.Future\n",
    "import scala.concurrent.ExecutionContext.Implicits.global\n",
    "\n",
    "// trait Future[+T] extends Awaitable[T]\n",
    "\n",
    "// object Future {\n",
    "//     def apply[T](body: => T)(implicit executor: ExecutionContext): Future[T]\n",
    "// }\n",
    "\n",
    "val f = Future(foldMap((1 to 1000000).toVector)(identity))"
   ]
  },
  {
   "cell_type": "code",
   "execution_count": null,
   "metadata": {
    "slideshow": {
     "slide_type": "subslide"
    }
   },
   "outputs": [],
   "source": [
    "f"
   ]
  },
  {
   "cell_type": "code",
   "execution_count": null,
   "metadata": {
    "slideshow": {
     "slide_type": "subslide"
    }
   },
   "outputs": [],
   "source": [
    "import scala.concurrent.duration._\n",
    "import scala.concurrent.Await\n",
    "\n",
    "val f = Future(foldMap((1 to 1000000).toVector)(identity))\n",
    "\n",
    "Await.result(f, 1.second)"
   ]
  },
  {
   "cell_type": "code",
   "execution_count": null,
   "metadata": {
    "slideshow": {
     "slide_type": "subslide"
    }
   },
   "outputs": [],
   "source": [
    "// def sequence[A, M[X] <: TraversableOnce[X]](in: M[Future[A]])(implicit cbf: CanBuildFrom[M[Future[A]], A, M[A]], executor: ExecutionContext): Future[M[A]]\n",
    "\n",
    "Future.sequence(List(Future(1), Future(2), Future(3)))"
   ]
  },
  {
   "cell_type": "markdown",
   "metadata": {
    "slideshow": {
     "slide_type": "subslide"
    }
   },
   "source": [
    "<br>\n",
    "# <center>Parallelizing Map-Reduce</center>\n",
    "---\n",
    "<br>\n",
    "<center>def parallelFoldMap\\[A, B: Monoid](va: Vector[A])(f: A => B): Future[B]</center>\n",
    "<br><br><br>"
   ]
  },
  {
   "cell_type": "code",
   "execution_count": null,
   "metadata": {
    "slideshow": {
     "slide_type": "subslide"
    }
   },
   "outputs": [],
   "source": [
    "def divideVector[A](va: Vector[A]): Iterator[Vector[A]] = va.grouped(\n",
    "    (1.0 * va.size / Runtime.getRuntime.availableProcessors).ceil.toInt\n",
    ")\n",
    "\n",
    "def parallelFoldMap[A, B: Monoid](va: Vector[A])(f: A => B): Future[B] = {\n",
    "    val futures: Iterator[Future[B]] = divideVector(va) map (g => Future(foldMap(g)(f)))\n",
    "    Future.sequence(futures) map (_.foldLeft(Monoid[B].empty)(_ |+| _))\n",
    "}"
   ]
  },
  {
   "cell_type": "code",
   "execution_count": null,
   "metadata": {
    "slideshow": {
     "slide_type": "subslide"
    }
   },
   "outputs": [],
   "source": [
    "Await.result(parallelFoldMap((1 to 1000000).toVector)(identity), 1.second)\n",
    "Await.result(parallelFoldMap((1 to 1000).toVector)(_ * 1000), 1.second)"
   ]
  },
  {
   "cell_type": "markdown",
   "metadata": {
    "slideshow": {
     "slide_type": "subslide"
    }
   },
   "source": [
    "<br>\n",
    "# <center>Parallelizing Map-Reduce with Cats</center>\n",
    "---\n",
    "<br>\n",
    "<center>def parallelFoldMap\\[A, B: Monoid](va: Vector[A])(f: A => B): Future[B]</center>\n",
    "<br><br><br>"
   ]
  },
  {
   "cell_type": "code",
   "execution_count": null,
   "metadata": {
    "slideshow": {
     "slide_type": "subslide"
    }
   },
   "outputs": [],
   "source": [
    "import cats.Monoid\n",
    "import cats.Foldable\n",
    "import cats.Traverse\n",
    "\n",
    "import cats.instances.int._\n",
    "import cats.instances.future._\n",
    "import cats.instances.vector._\n",
    "\n",
    "import cats.syntax.semigroup._\n",
    "import cats.syntax.foldable._\n",
    "import cats.syntax.traverse._\n",
    "\n",
    "import scala.concurrent._\n",
    "import scala.concurrent.duration._\n",
    "import scala.concurrent.ExecutionContext.Implicits.global"
   ]
  },
  {
   "cell_type": "code",
   "execution_count": null,
   "metadata": {
    "slideshow": {
     "slide_type": "subslide"
    }
   },
   "outputs": [],
   "source": [
    "def parallelFoldMap[A, B: Monoid](va: Vector[A])(f: A => B): Future[B] =\n",
    "    va.grouped((1.0 * va.size / Runtime.getRuntime.availableProcessors).ceil.toInt)\n",
    "      .toVector\n",
    "      .traverse(g => Future(g.toVector.foldMap(f)))\n",
    "      .map(_.combineAll)\n",
    "\n",
    "Await.result(parallelFoldMap((1 to 1000000).toVector)(identity), 1.second)\n",
    "Await.result(parallelFoldMap((1 to 1000).toVector)(_ * 1000), 1.second)"
   ]
  }
 ],
 "metadata": {
  "celltoolbar": "Slideshow",
  "kernelspec": {
   "display_name": "Scala",
   "language": "scala",
   "name": "scala"
  },
  "language_info": {
   "codemirror_mode": "text/x-scala",
   "file_extension": ".scala",
   "mimetype": "text/x-scala",
   "name": "scala212",
   "nbconvert_exporter": "script",
   "pygments_lexer": "scala",
   "version": "2.12.2"
  },
  "livereveal": {
   "theme": "beige"
  }
 },
 "nbformat": 4,
 "nbformat_minor": 2
}
