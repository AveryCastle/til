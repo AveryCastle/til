{
 "cells": [
  {
   "cell_type": "markdown",
   "metadata": {
    "slideshow": {
     "slide_type": "slide"
    }
   },
   "source": [
    "<br><br><br>\n",
    "# <center>Functional Programming #16</center>\n",
    "\n",
    "\n",
    "\n",
    "\n",
    "### <center>2018. 8. 27.</center>\n",
    "<br><br><br>"
   ]
  },
  {
   "cell_type": "code",
   "execution_count": 1,
   "metadata": {
    "scrolled": false,
    "slideshow": {
     "slide_type": "skip"
    }
   },
   "outputs": [
    {
     "data": {
      "text/plain": [
       "\u001b[36madd1\u001b[39m: \u001b[32mInt\u001b[39m => \u001b[32mInt\u001b[39m = $sess.cmd0Wrapper$Helper$$Lambda$3148/412565384@7e2e1c6b\n",
       "\u001b[36mmultiply3\u001b[39m: \u001b[32mInt\u001b[39m => \u001b[32mInt\u001b[39m = $sess.cmd0Wrapper$Helper$$Lambda$3149/617544893@15b30c12\n",
       "\u001b[36madd\u001b[39m: \u001b[32mInt\u001b[39m => \u001b[32mInt\u001b[39m => \u001b[32mInt\u001b[39m = $sess.cmd0Wrapper$Helper$$Lambda$3150/1686373328@22290ef1\n",
       "\u001b[36mmultiply\u001b[39m: \u001b[32mInt\u001b[39m => \u001b[32mInt\u001b[39m => \u001b[32mInt\u001b[39m = $sess.cmd0Wrapper$Helper$$Lambda$3151/1580090632@4cad497c\n",
       "defined \u001b[32mfunction\u001b[39m \u001b[36mmap\u001b[39m\n",
       "defined \u001b[32mfunction\u001b[39m \u001b[36mconcat\u001b[39m\n",
       "defined \u001b[32mtrait\u001b[39m \u001b[36mTree\u001b[39m\n",
       "defined \u001b[32mclass\u001b[39m \u001b[36mNode\u001b[39m\n",
       "defined \u001b[32mobject\u001b[39m \u001b[36mEmpty\u001b[39m\n",
       "defined \u001b[32mobject\u001b[39m \u001b[36mNode\u001b[39m\n",
       "defined \u001b[32mtrait\u001b[39m \u001b[36mMaybe\u001b[39m\n",
       "defined \u001b[32mclass\u001b[39m \u001b[36mJust\u001b[39m\n",
       "defined \u001b[32mobject\u001b[39m \u001b[36mNahthing\u001b[39m\n",
       "defined \u001b[32mobject\u001b[39m \u001b[36mJust\u001b[39m\n",
       "defined \u001b[32mfunction\u001b[39m \u001b[36mfoldr\u001b[39m\n",
       "defined \u001b[32mtrait\u001b[39m \u001b[36mFunctor\u001b[39m\n",
       "defined \u001b[32mfunction\u001b[39m \u001b[36mfmap\u001b[39m\n",
       "defined \u001b[32mclass\u001b[39m \u001b[36mFunction1Op\u001b[39m\n",
       "defined \u001b[32mfunction\u001b[39m \u001b[36mtoFunction1Op\u001b[39m\n",
       "\u001b[36mmaybeFunctor\u001b[39m: \u001b[32mAnyRef\u001b[39m with \u001b[32mFunctor\u001b[39m[\u001b[32mMaybe\u001b[39m] = $sess.cmd0Wrapper$Helper$$anon$3@512cd00d\n",
       "defined \u001b[32mtrait\u001b[39m \u001b[36mApplicative\u001b[39m\n",
       "defined \u001b[32mfunction\u001b[39m \u001b[36mpure\u001b[39m\n",
       "defined \u001b[32mfunction\u001b[39m \u001b[36mapp\u001b[39m\n",
       "defined \u001b[32mclass\u001b[39m \u001b[36mApplicativeOp\u001b[39m\n",
       "defined \u001b[32mfunction\u001b[39m \u001b[36mtoApplicativeOp\u001b[39m\n",
       "\u001b[36mmaybeApplicative\u001b[39m: \u001b[32mAnyRef\u001b[39m with \u001b[32mApplicative\u001b[39m[\u001b[32mMaybe\u001b[39m] = $sess.cmd0Wrapper$Helper$$anon$1@71b6d4da\n",
       "\u001b[36mlistApplicative\u001b[39m: \u001b[32mAnyRef\u001b[39m with \u001b[32mApplicative\u001b[39m[\u001b[32mList\u001b[39m] = $sess.cmd0Wrapper$Helper$$anon$2@2ef6677d\n",
       "defined \u001b[32mtrait\u001b[39m \u001b[36mMonoid\u001b[39m\n",
       "defined \u001b[32mfunction\u001b[39m \u001b[36mmempty\u001b[39m\n",
       "defined \u001b[32mfunction\u001b[39m \u001b[36mmappend\u001b[39m\n",
       "defined \u001b[32mfunction\u001b[39m \u001b[36mmconcat\u001b[39m\n",
       "defined \u001b[32mclass\u001b[39m \u001b[36mMonoidOp\u001b[39m\n",
       "defined \u001b[32mfunction\u001b[39m \u001b[36mtoMonoidOp\u001b[39m\n",
       "defined \u001b[32mfunction\u001b[39m \u001b[36mlistMonoid\u001b[39m"
      ]
     },
     "execution_count": 1,
     "metadata": {},
     "output_type": "execute_result"
    }
   ],
   "source": [
    "val add1: Int => Int = _ + 1\n",
    "val multiply3: Int => Int = _ * 3\n",
    "// ---\n",
    "val add: Int => Int => Int = x => y => x + y\n",
    "val multiply: Int => Int => Int = x => y => x * y\n",
    "// ---\n",
    "def map[A, B]: (A => B) => List[A] => List[B] = f => {\n",
    "    case Nil   => Nil\n",
    "    case x::xs => f(x) :: map(f)(xs)\n",
    "}\n",
    "// ---\n",
    "def concat[A]: List[List[A]] => List[A] = {\n",
    "    case Nil   => Nil\n",
    "    case x::xs => x ::: concat(xs)\n",
    "}\n",
    "// ---\n",
    "sealed trait Tree[+A]\n",
    "case class Node[A](l: Tree[A], a: A, r: Tree[A]) extends Tree[A]\n",
    "case object Empty extends Tree[Nothing]\n",
    "\n",
    "object Node { def apply[A](l: Tree[A], a: A, r: Tree[A]): Tree[A] = new Node(l, a, r) }\n",
    "// ---\n",
    "sealed trait Maybe[+A]\n",
    "case class Just[A](a: A) extends Maybe[A]\n",
    "case object Nahthing extends Maybe[Nothing]\n",
    "\n",
    "object Just { def apply[A](a: A): Maybe[A] = new Just(a) }\n",
    "// ---\n",
    "def foldr[A, B]: (A => B => B) => B => List[A] => B = f => v => {\n",
    "    case Nil   => v\n",
    "    case x::xs => f(x)(foldr(f)(v)(xs))\n",
    "}\n",
    "// ---\n",
    "trait Functor[F[+_]] {\n",
    "    def fmap[A, B]: (A => B) => F[A] => F[B]\n",
    "}\n",
    "\n",
    "def fmap[A, B, F[+A]: Functor](f: A => B)(fa: F[A]) = implicitly[Functor[F]].fmap(f)(fa)\n",
    "\n",
    "class Function1Op[A, B](f: A => B) {\n",
    "    def <&>[F[+A]: Functor](fa: F[A]) = implicitly[Functor[F]].fmap(f)(fa)\n",
    "}\n",
    "implicit def toFunction1Op[A, B](f: A => B) = new Function1Op(f)\n",
    "// ---\n",
    "implicit val maybeFunctor = new Functor[Maybe] {\n",
    "    def fmap[A, B] = f => {\n",
    "        case Just(a)  => Just(f(a))\n",
    "        case Nahthing => Nahthing\n",
    "    }\n",
    "}\n",
    "// ---\n",
    "trait Applicative[F[+_]] extends Functor[F] {\n",
    "    def pure[A]: A => F[A]\n",
    "    def app[A, B]: F[A => B] => F[A] => F[B]\n",
    "    def fmap[A, B]: (A => B) => F[A] => F[B] = f => fa => app(pure(f))(fa)\n",
    "}\n",
    "\n",
    "def pure[A, F[+A]: Applicative](a: A) = implicitly[Applicative[F]].pure(a)\n",
    "def app[A, B, F[+A]: Applicative](ff: F[A => B])(fa: F[A]) = implicitly[Applicative[F]].app(ff)(fa)\n",
    "\n",
    "class ApplicativeOp[A, B, F[+_]](ff: F[A => B], e: Applicative[F]) {\n",
    "    def <*>(fa: F[A]) = e.app(ff)(fa)\n",
    "}\n",
    "implicit def toApplicativeOp[A, B, F[+_]: Applicative](ff: F[A => B]) = new ApplicativeOp(ff, implicitly[Applicative[F]])\n",
    "// ---\n",
    "implicit val maybeApplicative = new Applicative[Maybe] {\n",
    "    def pure[A] = Just[A]\n",
    "    def app[A, B] = ff => fa => (ff, fa) match {\n",
    "        case (Just(f), Just(a))  => Just(f(a))\n",
    "        case _                   => Nahthing\n",
    "    }\n",
    "}\n",
    "// ---\n",
    "implicit val listApplicative = new Applicative[List] {\n",
    "    def pure[A] = a => List(a)\n",
    "    def app[A, B] = ff => fa => (ff, fa) match {\n",
    "        case (f::fs, _::_) => fmap(f)(fa) ::: app(fs)(fa)\n",
    "        case _             => Nil\n",
    "    }\n",
    "    override def fmap[A, B] = f => {\n",
    "        case Nil   => Nil\n",
    "        case x::xs => f(x) :: fmap(f)(xs)\n",
    "    }\n",
    "}\n",
    "// ---\n",
    "trait Monoid[M] {\n",
    "    def mempty: M\n",
    "    def mappend: M => M => M\n",
    "    def mconcat: List[M] => M = foldr[M, M](mappend)(mempty)\n",
    "}\n",
    "\n",
    "def mempty[M: Monoid] = implicitly[Monoid[M]].mempty\n",
    "def mappend[M: Monoid](m1: M)(m2: M) = implicitly[Monoid[M]].mappend(m1)(m2)\n",
    "def mconcat[M: Monoid](l: List[M]) = implicitly[Monoid[M]].mconcat(l)\n",
    "\n",
    "class MonoidOp[M](m1: M, e: Monoid[M]) {\n",
    "    def <>(m2: M) = e.mappend(m1)(m2)\n",
    "}\n",
    "implicit def toMonoidOp[M: Monoid](m1: M) = new MonoidOp(m1, implicitly[Monoid[M]])\n",
    "// ---\n",
    "implicit def listMonoid[A] = new Monoid[List[A]] {\n",
    "    def mempty = Nil\n",
    "    def mappend = m1 => m2 => m1 ::: m2\n",
    "}"
   ]
  },
  {
   "cell_type": "markdown",
   "metadata": {
    "slideshow": {
     "slide_type": "slide"
    }
   },
   "source": [
    "<br><br><br>\n",
    "# <center>Monad</center>\n",
    "<br><br><br>"
   ]
  },
  {
   "cell_type": "code",
   "execution_count": 2,
   "metadata": {
    "scrolled": true,
    "slideshow": {
     "slide_type": "subslide"
    }
   },
   "outputs": [
    {
     "data": {
      "text/plain": [
       "defined \u001b[32mtrait\u001b[39m \u001b[36mMonad\u001b[39m\n",
       "defined \u001b[32mfunction\u001b[39m \u001b[36mreeturn\u001b[39m\n",
       "defined \u001b[32mclass\u001b[39m \u001b[36mMonadOp\u001b[39m\n",
       "defined \u001b[32mfunction\u001b[39m \u001b[36mtoMonadOp\u001b[39m"
      ]
     },
     "execution_count": 2,
     "metadata": {},
     "output_type": "execute_result"
    }
   ],
   "source": [
    "trait Monad[M[+_]] extends Applicative[M] {\n",
    "    def reeturn[A]: A => M[A]\n",
    "    def bind[A, B]: M[A] => (A => M[B]) => M[B]\n",
    "    def then[A, B]: M[A] => M[B] => M[B] = x => y => bind(x)(_ => y)\n",
    "//     def fail[A]: String => M[A] = msg => error(msg)\n",
    "    def pure[A] = reeturn[A]\n",
    "    def withFilter[A]: M[A] => (A => Boolean) => M[A]\n",
    "}\n",
    "\n",
    "def reeturn[A, M[+A]: Monad](a: A) = implicitly[Monad[M]].reeturn(a)\n",
    "\n",
    "class MonadOp[A, M[+_]](ma: M[A], e: Monad[M]) {\n",
    "    def >>=[B](f: A => M[B]) = e.bind(ma)(f)\n",
    "    def >>[B](mb: M[B]) = e.then(ma)(mb)\n",
    "    def flatMap[B](f: A => M[B]) = e.bind(ma)(f)\n",
    "    def map[B](f: A => B) = e.fmap(f)(ma)\n",
    "    def withFilter(p: A => Boolean): M[A] = e.withFilter(ma)(p)\n",
    "}\n",
    "implicit def toMonadOp[A, M[+_]: Monad](ma: M[A]) = new MonadOp(ma, implicitly[Monad[M]])"
   ]
  },
  {
   "cell_type": "markdown",
   "metadata": {
    "slideshow": {
     "slide_type": "subslide"
    }
   },
   "source": [
    "<br><br><br>\n",
    "# <center>Maybe monad</center>\n",
    "<br><br><br>"
   ]
  },
  {
   "cell_type": "code",
   "execution_count": 3,
   "metadata": {
    "slideshow": {
     "slide_type": "subslide"
    }
   },
   "outputs": [
    {
     "data": {
      "text/plain": [
       "\u001b[36mmaybeMonad\u001b[39m: \u001b[32mAnyRef\u001b[39m with \u001b[32mMonad\u001b[39m[\u001b[32mMaybe\u001b[39m] = $sess.cmd2Wrapper$Helper$$anon$1@40c6f427"
      ]
     },
     "execution_count": 3,
     "metadata": {},
     "output_type": "execute_result"
    }
   ],
   "source": [
    "implicit val maybeMonad = new Monad[Maybe] {\n",
    "    def app[A, B] = maybeApplicative.app\n",
    "\n",
    "    def reeturn[A] = Just[A]\n",
    "    def bind[A, B] = {\n",
    "        case Just(a)  => f => f(a)\n",
    "        case Nahthing => _ => Nahthing\n",
    "    }\n",
    "\n",
    "    def withFilter[A] = {\n",
    "        case Just(a)  => p => if (p(a)) Just(a) else Nahthing\n",
    "        case Nahthing => _ => Nahthing\n",
    "    }\n",
    "}"
   ]
  },
  {
   "cell_type": "code",
   "execution_count": 4,
   "metadata": {
    "slideshow": {
     "slide_type": "subslide"
    }
   },
   "outputs": [
    {
     "data": {
      "text/plain": [
       "\u001b[36mmadd1\u001b[39m: \u001b[32mInt\u001b[39m => \u001b[32mMaybe\u001b[39m[\u001b[32mInt\u001b[39m] = $sess.cmd3Wrapper$Helper$$Lambda$3426/13907036@75fbb3cf\n",
       "\u001b[36mmmultiply3\u001b[39m: \u001b[32mInt\u001b[39m => \u001b[32mMaybe\u001b[39m[\u001b[32mInt\u001b[39m] = $sess.cmd3Wrapper$Helper$$Lambda$3427/1429009457@16bbe9f\n",
       "\u001b[36mres3_2\u001b[39m: \u001b[32mMaybe\u001b[39m[\u001b[32mInt\u001b[39m] = Just(94)\n",
       "\u001b[36mres3_3\u001b[39m: \u001b[32mMaybe\u001b[39m[\u001b[32mInt\u001b[39m] = Just(94)\n",
       "\u001b[36mres3_4\u001b[39m: \u001b[32mList\u001b[39m[\u001b[32mInt\u001b[39m] = \u001b[33mList\u001b[39m(\u001b[32m1\u001b[39m, \u001b[32m2\u001b[39m, \u001b[32m3\u001b[39m, \u001b[32m4\u001b[39m, \u001b[32m5\u001b[39m)\n",
       "\u001b[36mres3_5\u001b[39m: \u001b[32mList\u001b[39m[\u001b[32mInt\u001b[39m] = \u001b[33mList\u001b[39m(\u001b[32m1\u001b[39m, \u001b[32m2\u001b[39m, \u001b[32m3\u001b[39m, \u001b[32m4\u001b[39m, \u001b[32m5\u001b[39m)"
      ]
     },
     "execution_count": 4,
     "metadata": {},
     "output_type": "execute_result"
    }
   ],
   "source": [
    "val madd1: Int => Maybe[Int] = x => Just(x + 1)\n",
    "val mmultiply3: Int => Maybe[Int] = x => Just(x * 3)\n",
    "\n",
    "reeturn(9) >>= madd1 >>= mmultiply3 >>= madd1 >>= mmultiply3 >>= madd1\n",
    "(((((reeturn(9) >>= madd1) >>= mmultiply3) >>= madd1) >>= mmultiply3) >>= madd1)\n",
    "\n",
    "1 :: 2 :: 3 :: 4 :: 5 :: Nil\n",
    "(1 :: (2 :: (3 :: (4 :: (5 :: Nil)))))"
   ]
  },
  {
   "cell_type": "code",
   "execution_count": 5,
   "metadata": {
    "slideshow": {
     "slide_type": "subslide"
    }
   },
   "outputs": [
    {
     "data": {
      "text/plain": [
       "\u001b[36mfoo\u001b[39m: \u001b[32mInt\u001b[39m => \u001b[32mMaybe\u001b[39m[\u001b[32mInt\u001b[39m] = $sess.cmd4Wrapper$Helper$$Lambda$3467/1412207006@2a4c6ed7"
      ]
     },
     "execution_count": 5,
     "metadata": {},
     "output_type": "execute_result"
    }
   ],
   "source": [
    "val foo: Int => Maybe[Int] = reeturn(_) >>= madd1 >>= mmultiply3 >>= madd1 >>= mmultiply3 >>= madd1"
   ]
  },
  {
   "cell_type": "code",
   "execution_count": 6,
   "metadata": {
    "slideshow": {
     "slide_type": "subslide"
    }
   },
   "outputs": [
    {
     "data": {
      "text/plain": [
       "\u001b[36mfoo\u001b[39m: \u001b[32mInt\u001b[39m => \u001b[32mMaybe\u001b[39m[\u001b[32mInt\u001b[39m] = $sess.cmd5Wrapper$Helper$$Lambda$3473/1901594205@22b0af85\n",
       "\u001b[36mbar\u001b[39m: \u001b[32mInt\u001b[39m => \u001b[32mMaybe\u001b[39m[\u001b[32mInt\u001b[39m] = $sess.cmd5Wrapper$Helper$$Lambda$3474/1784074021@55989c5"
      ]
     },
     "execution_count": 6,
     "metadata": {},
     "output_type": "execute_result"
    }
   ],
   "source": [
    "val foo: Int => Maybe[Int] = reeturn(_) >>= madd1 >>= mmultiply3 >>= madd1 >>= mmultiply3 >>= madd1\n",
    "\n",
    "val bar: Int => Maybe[Int] = x => reeturn(x) >>= madd1 >>= mmultiply3 >>= madd1 >>= mmultiply3 >>= madd1"
   ]
  },
  {
   "cell_type": "markdown",
   "metadata": {
    "slideshow": {
     "slide_type": "slide"
    }
   },
   "source": [
    "<br><br><br>\n",
    "# <center>Cats</center>\n",
    "<center>\n",
    "![Cats](../img/cats2.png)<br>\n",
    "[Cats examples](Cats.ipynb)\n",
    "</center>\n",
    "<br><br><br>"
   ]
  },
  {
   "cell_type": "code",
   "execution_count": 7,
   "metadata": {
    "slideshow": {
     "slide_type": "subslide"
    }
   },
   "outputs": [
    {
     "data": {
      "text/plain": [
       "\u001b[32mimport \u001b[39m\u001b[36m$ivy.$                               \u001b[39m"
      ]
     },
     "execution_count": 7,
     "metadata": {},
     "output_type": "execute_result"
    }
   ],
   "source": [
    "import $ivy.`org.typelevel::cats-core:1.1.0`"
   ]
  },
  {
   "cell_type": "markdown",
   "metadata": {
    "slideshow": {
     "slide_type": "subslide"
    }
   },
   "source": [
    "<br><br><br>\n",
    "# <center>Type classes - Cats</center>\n",
    "<br><br><br>"
   ]
  },
  {
   "cell_type": "code",
   "execution_count": 8,
   "metadata": {
    "slideshow": {
     "slide_type": "subslide"
    }
   },
   "outputs": [
    {
     "data": {
      "text/plain": [
       "defined \u001b[32mfunction\u001b[39m \u001b[36msumInts\u001b[39m\n",
       "defined \u001b[32mfunction\u001b[39m \u001b[36mconcatStrings\u001b[39m\n",
       "defined \u001b[32mfunction\u001b[39m \u001b[36munionSets\u001b[39m"
      ]
     },
     "execution_count": 8,
     "metadata": {},
     "output_type": "execute_result"
    }
   ],
   "source": [
    "def sumInts(list: List[Int]): Int = list.foldRight(0)(_ + _)\n",
    "\n",
    "def concatStrings(list: List[String]): String = list.foldRight(\"\")(_ ++ _)\n",
    "\n",
    "def unionSets[A](list: List[Set[A]]): Set[A] = list.foldRight(Set.empty[A])(_ union _)"
   ]
  },
  {
   "cell_type": "markdown",
   "metadata": {
    "slideshow": {
     "slide_type": "subslide"
    }
   },
   "source": [
    "<br>\n",
    "# <center>Type classes - Cats</center>\n",
    "---\n",
    "<br>\n",
    "## <center>Instances</center>\n",
    "<br><br><br>"
   ]
  },
  {
   "cell_type": "code",
   "execution_count": 8,
   "metadata": {
    "slideshow": {
     "slide_type": "subslide"
    }
   },
   "outputs": [
    {
     "name": "stderr",
     "output_type": "stream",
     "text": [
      "cmd8.sc:3: object creation impossible, since:\n",
      "it has 2 unimplemented members.\n",
      "/** As seen from <$anon: cats.Monoid[String]>, the missing signatures are as follows.\n",
      " *  For convenience, these are usable as stub implementations.\n",
      " */\n",
      "  // Members declared in cats.kernel.Monoid\n",
      "  def empty: String = ???\n",
      "  \n",
      "  // Members declared in cats.kernel.Semigroup\n",
      "  def combine(x: String,y: String): String = ???\n",
      "\n",
      "val res8_1 = new Monoid[String] {}\n",
      "                 ^"
     ]
    },
    {
     "ename": "",
     "evalue": "",
     "output_type": "error",
     "traceback": [
      "Compilation Failed"
     ]
    }
   ],
   "source": [
    "import cats.Monoid\n",
    "\n",
    "new Monoid[String] {}"
   ]
  },
  {
   "cell_type": "code",
   "execution_count": 9,
   "metadata": {
    "slideshow": {
     "slide_type": "subslide"
    }
   },
   "outputs": [
    {
     "data": {
      "text/plain": [
       "\u001b[32mimport \u001b[39m\u001b[36mcats.Monoid\n",
       "\n",
       "\u001b[39m\n",
       "\u001b[36mintAdditionMonoid\u001b[39m: \u001b[32mAnyRef\u001b[39m with \u001b[32mcats\u001b[39m.\u001b[32mpackage\u001b[39m.\u001b[32mMonoid\u001b[39m[\u001b[32mInt\u001b[39m] = $sess.cmd8Wrapper$Helper$$anon$1@36a9cc50\n",
       "\u001b[36mintMultiplicationMonoid\u001b[39m: \u001b[32mAnyRef\u001b[39m with \u001b[32mcats\u001b[39m.\u001b[32mpackage\u001b[39m.\u001b[32mMonoid\u001b[39m[\u001b[32mInt\u001b[39m] = $sess.cmd8Wrapper$Helper$$anon$2@6c83974e\n",
       "\u001b[36mstringMonoid\u001b[39m: \u001b[32mAnyRef\u001b[39m with \u001b[32mcats\u001b[39m.\u001b[32mpackage\u001b[39m.\u001b[32mMonoid\u001b[39m[\u001b[32mString\u001b[39m] = $sess.cmd8Wrapper$Helper$$anon$3@12139d02"
      ]
     },
     "execution_count": 9,
     "metadata": {},
     "output_type": "execute_result"
    }
   ],
   "source": [
    "import cats.Monoid\n",
    "\n",
    "val intAdditionMonoid = new Monoid[Int] {\n",
    "    def empty: Int = 0\n",
    "    def combine(x: Int, y: Int): Int = x + y\n",
    "}\n",
    "\n",
    "val intMultiplicationMonoid = new Monoid[Int] {\n",
    "    def empty: Int = 1\n",
    "    def combine(x: Int, y: Int): Int = x * y\n",
    "}\n",
    "\n",
    "val stringMonoid = new Monoid[String] {\n",
    "    def empty: String = \"\"\n",
    "    def combine(x: String, y: String): String = x ++ y\n",
    "}"
   ]
  },
  {
   "cell_type": "markdown",
   "metadata": {
    "slideshow": {
     "slide_type": "subslide"
    }
   },
   "source": [
    "<br>\n",
    "# <center>Type classes - Cats</center>\n",
    "---\n",
    "<br>\n",
    "## <center>Interface</center>\n",
    "<br><br><br>"
   ]
  },
  {
   "cell_type": "code",
   "execution_count": 10,
   "metadata": {
    "slideshow": {
     "slide_type": "subslide"
    }
   },
   "outputs": [
    {
     "data": {
      "text/plain": [
       "defined \u001b[32mfunction\u001b[39m \u001b[36mcombineAll\u001b[39m\n",
       "\u001b[36mres9_1\u001b[39m: \u001b[32mInt\u001b[39m = \u001b[32m15\u001b[39m\n",
       "\u001b[36mres9_2\u001b[39m: \u001b[32mInt\u001b[39m = \u001b[32m120\u001b[39m\n",
       "\u001b[36mres9_3\u001b[39m: \u001b[32mString\u001b[39m = \u001b[32m\"foobar\"\u001b[39m"
      ]
     },
     "execution_count": 10,
     "metadata": {},
     "output_type": "execute_result"
    }
   ],
   "source": [
    "def combineAll[A](list: List[A], A: Monoid[A]): A = list.foldRight(A.empty)(A.combine)\n",
    "\n",
    "combineAll(List(1, 2, 3, 4, 5), intAdditionMonoid)\n",
    "combineAll(List(1, 2, 3, 4, 5), intMultiplicationMonoid)\n",
    "combineAll(List(\"foo\", \"bar\"), stringMonoid)"
   ]
  },
  {
   "cell_type": "code",
   "execution_count": 11,
   "metadata": {
    "slideshow": {
     "slide_type": "subslide"
    }
   },
   "outputs": [
    {
     "data": {
      "text/plain": [
       "\u001b[36mstringMonoid\u001b[39m: \u001b[32mAnyRef\u001b[39m with \u001b[32mMonoid\u001b[39m[\u001b[32mString\u001b[39m] = $sess.cmd10Wrapper$Helper$$anon$1@22df2855\n",
       "defined \u001b[32mfunction\u001b[39m \u001b[36mcombineAll\u001b[39m\n",
       "\u001b[36mres10_2\u001b[39m: \u001b[32mString\u001b[39m = \u001b[32m\"foobar\"\u001b[39m"
      ]
     },
     "execution_count": 11,
     "metadata": {},
     "output_type": "execute_result"
    }
   ],
   "source": [
    "implicit val stringMonoid = new Monoid[String] {\n",
    "    def empty: String = \"\"\n",
    "    def combine(x: String, y: String): String = x ++ y\n",
    "}\n",
    "// object Monoid {\n",
    "//     def apply[A: Monoid]: Monoid[A] = implicitly[Monoid[A]]\n",
    "// }\n",
    "\n",
    "// def combineAll[A](list: List[A], A: Monoid[A]): A = list.foldRight(A.empty)(A.combine)\n",
    "def combineAll[A: Monoid](list: List[A]): A = list.foldRight(Monoid[A].empty)(Monoid[A].combine)\n",
    "\n",
    "combineAll(List(\"foo\", \"bar\"))"
   ]
  },
  {
   "cell_type": "markdown",
   "metadata": {
    "slideshow": {
     "slide_type": "slide"
    }
   },
   "source": [
    "<br>\n",
    "# <center>Type classes - Cats</center>\n",
    "---\n",
    "<br>\n",
    "## <center>Semigroups</center>\n",
    "<br><br><br>"
   ]
  },
  {
   "cell_type": "code",
   "execution_count": 11,
   "metadata": {
    "slideshow": {
     "slide_type": "subslide"
    }
   },
   "outputs": [
    {
     "name": "stderr",
     "output_type": "stream",
     "text": [
      "cmd11.sc:3: object creation impossible, since method combine in trait Semigroup of type (x: Int, y: Int)Int is not defined\n",
      "val res11_1 = new Semigroup[Int] {}\n",
      "                  ^"
     ]
    },
    {
     "ename": "",
     "evalue": "",
     "output_type": "error",
     "traceback": [
      "Compilation Failed"
     ]
    }
   ],
   "source": [
    "import cats.Semigroup\n",
    "\n",
    "new Semigroup[Int] {}"
   ]
  },
  {
   "cell_type": "code",
   "execution_count": 12,
   "metadata": {
    "slideshow": {
     "slide_type": "subslide"
    }
   },
   "outputs": [
    {
     "data": {
      "text/plain": [
       "\u001b[32mimport \u001b[39m\u001b[36mcats.Semigroup\n",
       "\n",
       "\u001b[39m\n",
       "\u001b[36mintAdditionsSemigroup\u001b[39m: \u001b[32mAnyRef\u001b[39m with \u001b[32mcats\u001b[39m.\u001b[32mpackage\u001b[39m.\u001b[32mSemigroup\u001b[39m[\u001b[32mInt\u001b[39m] = $sess.cmd11Wrapper$Helper$$anon$1@60a0355e\n",
       "\u001b[36mres11_2\u001b[39m: \u001b[32mInt\u001b[39m = \u001b[32m5\u001b[39m\n",
       "\u001b[36mres11_3\u001b[39m: \u001b[32mInt\u001b[39m = \u001b[32m6\u001b[39m\n",
       "\u001b[36mres11_4\u001b[39m: \u001b[32mInt\u001b[39m = \u001b[32m6\u001b[39m"
      ]
     },
     "execution_count": 12,
     "metadata": {},
     "output_type": "execute_result"
    }
   ],
   "source": [
    "import cats.Semigroup\n",
    "\n",
    "implicit val intAdditionsSemigroup = new Semigroup[Int] {\n",
    "    def combine(x: Int, y: Int) = x + y\n",
    "}\n",
    "\n",
    "Semigroup[Int].combine(2, 3)\n",
    "\n",
    "Semigroup[Int].combine(1, Semigroup[Int].combine(2, 3))\n",
    "Semigroup[Int].combine(Semigroup[Int].combine(1, 2), 3)"
   ]
  },
  {
   "cell_type": "code",
   "execution_count": 13,
   "metadata": {
    "slideshow": {
     "slide_type": "subslide"
    }
   },
   "outputs": [
    {
     "data": {
      "text/plain": [
       "\u001b[32mimport \u001b[39m\u001b[36mcats.syntax.semigroup._\n",
       "\n",
       "\u001b[39m\n",
       "\u001b[36mres12_1\u001b[39m: \u001b[32mInt\u001b[39m = \u001b[32m5\u001b[39m"
      ]
     },
     "execution_count": 13,
     "metadata": {},
     "output_type": "execute_result"
    }
   ],
   "source": [
    "import cats.syntax.semigroup._\n",
    "\n",
    "2 |+| 3"
   ]
  },
  {
   "cell_type": "code",
   "execution_count": 13,
   "metadata": {
    "slideshow": {
     "slide_type": "subslide"
    }
   },
   "outputs": [
    {
     "name": "stderr",
     "output_type": "stream",
     "text": [
      "cmd13.sc:4: could not find implicit value for parameter ev: cats.kernel.Semigroup[Map[String,Int]]\n",
      "val res13_2 = Semigroup[Map[String, Int]].combine(map1, map2)\n",
      "                       ^cmd13.sc:6: value |+| is not a member of scala.collection.immutable.Map[String,Int]\n",
      "val res13_3 = map1 |+| map2\n",
      "                   ^"
     ]
    },
    {
     "ename": "",
     "evalue": "",
     "output_type": "error",
     "traceback": [
      "Compilation Failed"
     ]
    }
   ],
   "source": [
    "val map1 = Map(\"Hello\" -> 0, \"World\" -> 1)\n",
    "val map2 = Map(\"Hello\" -> 2, \"Cats\"  -> 3)\n",
    "\n",
    "Semigroup[Map[String, Int]].combine(map1, map2)\n",
    "\n",
    "map1 |+| map2"
   ]
  },
  {
   "cell_type": "code",
   "execution_count": 14,
   "metadata": {
    "slideshow": {
     "slide_type": "subslide"
    }
   },
   "outputs": [
    {
     "data": {
      "text/plain": [
       "\u001b[32mimport \u001b[39m\u001b[36mcats.instances.map._\n",
       "\n",
       "\u001b[39m\n",
       "\u001b[36mmap1\u001b[39m: \u001b[32mMap\u001b[39m[\u001b[32mString\u001b[39m, \u001b[32mInt\u001b[39m] = \u001b[33mMap\u001b[39m(\u001b[32m\"Hello\"\u001b[39m -> \u001b[32m0\u001b[39m, \u001b[32m\"World\"\u001b[39m -> \u001b[32m1\u001b[39m)\n",
       "\u001b[36mmap2\u001b[39m: \u001b[32mMap\u001b[39m[\u001b[32mString\u001b[39m, \u001b[32mInt\u001b[39m] = \u001b[33mMap\u001b[39m(\u001b[32m\"Hello\"\u001b[39m -> \u001b[32m2\u001b[39m, \u001b[32m\"Cats\"\u001b[39m -> \u001b[32m3\u001b[39m)\n",
       "\u001b[36mres13_3\u001b[39m: \u001b[32mMap\u001b[39m[\u001b[32mString\u001b[39m, \u001b[32mInt\u001b[39m] = \u001b[33mMap\u001b[39m(\u001b[32m\"Hello\"\u001b[39m -> \u001b[32m2\u001b[39m, \u001b[32m\"Cats\"\u001b[39m -> \u001b[32m3\u001b[39m, \u001b[32m\"World\"\u001b[39m -> \u001b[32m1\u001b[39m)\n",
       "\u001b[36mres13_4\u001b[39m: \u001b[32mMap\u001b[39m[\u001b[32mString\u001b[39m, \u001b[32mInt\u001b[39m] = \u001b[33mMap\u001b[39m(\u001b[32m\"Hello\"\u001b[39m -> \u001b[32m2\u001b[39m, \u001b[32m\"Cats\"\u001b[39m -> \u001b[32m3\u001b[39m, \u001b[32m\"World\"\u001b[39m -> \u001b[32m1\u001b[39m)"
      ]
     },
     "execution_count": 14,
     "metadata": {},
     "output_type": "execute_result"
    }
   ],
   "source": [
    "import cats.instances.map._\n",
    "\n",
    "val map1 = Map(\"Hello\" -> 0, \"World\" -> 1)\n",
    "val map2 = Map(\"Hello\" -> 2, \"Cats\"  -> 3)\n",
    "\n",
    "Semigroup[Map[String, Int]].combine(map1, map2)\n",
    "\n",
    "map1 |+| map2"
   ]
  },
  {
   "cell_type": "code",
   "execution_count": 15,
   "metadata": {
    "slideshow": {
     "slide_type": "subslide"
    }
   },
   "outputs": [
    {
     "data": {
      "text/plain": [
       "\u001b[32mimport \u001b[39m\u001b[36mcats.Semigroup\n",
       "\u001b[39m\n",
       "\u001b[32mimport \u001b[39m\u001b[36mcats.instances.all._\u001b[39m"
      ]
     },
     "execution_count": 15,
     "metadata": {},
     "output_type": "execute_result"
    }
   ],
   "source": [
    "import cats.Semigroup\n",
    "import cats.instances.all._"
   ]
  },
  {
   "cell_type": "code",
   "execution_count": 16,
   "metadata": {
    "slideshow": {
     "slide_type": "subslide"
    }
   },
   "outputs": [
    {
     "data": {
      "text/plain": [
       "\u001b[36mres15_0\u001b[39m: \u001b[32mSemigroup\u001b[39m[\u001b[32mList\u001b[39m[\u001b[32mByte\u001b[39m]] = cats.kernel.instances.ListMonoid@54075444\n",
       "\u001b[36mres15_1\u001b[39m: \u001b[32mSemigroup\u001b[39m[\u001b[32mSet\u001b[39m[\u001b[32mInt\u001b[39m]] = cats.kernel.instances.SetSemilattice@2c12a743"
      ]
     },
     "execution_count": 16,
     "metadata": {},
     "output_type": "execute_result"
    }
   ],
   "source": [
    "Semigroup[List[Byte]]\n",
    "Semigroup[Set[Int]]"
   ]
  },
  {
   "cell_type": "code",
   "execution_count": 17,
   "metadata": {
    "slideshow": {
     "slide_type": "subslide"
    }
   },
   "outputs": [
    {
     "data": {
      "text/plain": [
       "\u001b[36ma\u001b[39m: \u001b[32mByte\u001b[39m = \u001b[32m0\u001b[39m\n",
       "\u001b[36mb\u001b[39m: \u001b[32mByte\u001b[39m = \u001b[32m1\u001b[39m\n",
       "\u001b[36mres16_2\u001b[39m: \u001b[32mList\u001b[39m[\u001b[32mByte\u001b[39m] = \u001b[33mList\u001b[39m(\u001b[32m0\u001b[39m, \u001b[32m1\u001b[39m, \u001b[32m0\u001b[39m, \u001b[32m1\u001b[39m, \u001b[32m0\u001b[39m)\n",
       "\u001b[36mres16_3\u001b[39m: \u001b[32mSet\u001b[39m[\u001b[32mInt\u001b[39m] = \u001b[33mSet\u001b[39m(\u001b[32m1\u001b[39m, \u001b[32m2\u001b[39m, \u001b[32m3\u001b[39m, \u001b[32m4\u001b[39m)"
      ]
     },
     "execution_count": 17,
     "metadata": {},
     "output_type": "execute_result"
    }
   ],
   "source": [
    "val a: Byte = 0\n",
    "val b: Byte = 1\n",
    "\n",
    "List(a, b) |+| List(a, b, a)\n",
    "Set(1, 2) |+| Set(2, 3, 4)"
   ]
  },
  {
   "cell_type": "code",
   "execution_count": 18,
   "metadata": {
    "slideshow": {
     "slide_type": "subslide"
    }
   },
   "outputs": [
    {
     "data": {
      "text/plain": [
       "defined \u001b[32mtrait\u001b[39m \u001b[36mFoo\u001b[39m\n",
       "\u001b[36mres17_1\u001b[39m: \u001b[32mSemigroup\u001b[39m[\u001b[32mList\u001b[39m[\u001b[32mFoo\u001b[39m]] = cats.kernel.instances.ListMonoid@40148cea"
      ]
     },
     "execution_count": 18,
     "metadata": {},
     "output_type": "execute_result"
    }
   ],
   "source": [
    "trait Foo\n",
    "Semigroup[List[Foo]]"
   ]
  },
  {
   "cell_type": "code",
   "execution_count": 19,
   "metadata": {
    "slideshow": {
     "slide_type": "subslide"
    }
   },
   "outputs": [
    {
     "data": {
      "text/plain": [
       "\u001b[36mfoo\u001b[39m: \u001b[32mAnyRef\u001b[39m with \u001b[32mFoo\u001b[39m = $sess.cmd18Wrapper$Helper$$anon$1@7740591d\n",
       "\u001b[36mbar\u001b[39m: \u001b[32mAnyRef\u001b[39m with \u001b[32mFoo\u001b[39m = $sess.cmd18Wrapper$Helper$$anon$2@1323614f\n",
       "\u001b[36mres18_2\u001b[39m: \u001b[32mList\u001b[39m[\u001b[32mAnyRef\u001b[39m with \u001b[32mFoo\u001b[39m] = \u001b[33mList\u001b[39m(\n",
       "  $sess.cmd18Wrapper$Helper$$anon$1@7740591d,\n",
       "  $sess.cmd18Wrapper$Helper$$anon$2@1323614f\n",
       ")"
      ]
     },
     "execution_count": 19,
     "metadata": {},
     "output_type": "execute_result"
    }
   ],
   "source": [
    "val foo = new Foo {}\n",
    "val bar = new Foo {}\n",
    "\n",
    "List(foo) |+| List(bar)"
   ]
  },
  {
   "cell_type": "code",
   "execution_count": 20,
   "metadata": {
    "slideshow": {
     "slide_type": "subslide"
    }
   },
   "outputs": [
    {
     "data": {
      "text/plain": [
       "\u001b[36mres19\u001b[39m: \u001b[32mSemigroup\u001b[39m[(\u001b[32mList\u001b[39m[\u001b[32mFoo\u001b[39m], \u001b[32mInt\u001b[39m)] = cats.kernel.instances.TupleInstances2$$anon$182@3acc0dec"
      ]
     },
     "execution_count": 20,
     "metadata": {},
     "output_type": "execute_result"
    }
   ],
   "source": [
    "Semigroup[(List[Foo], Int)]"
   ]
  },
  {
   "cell_type": "code",
   "execution_count": 21,
   "metadata": {
    "slideshow": {
     "slide_type": "subslide"
    }
   },
   "outputs": [
    {
     "data": {
      "text/plain": [
       "\u001b[36mres20\u001b[39m: (\u001b[32mList\u001b[39m[\u001b[32mAnyRef\u001b[39m with \u001b[32mFoo\u001b[39m], \u001b[32mInt\u001b[39m) = (\n",
       "  \u001b[33mList\u001b[39m(\n",
       "    $sess.cmd18Wrapper$Helper$$anon$1@7740591d,\n",
       "    $sess.cmd18Wrapper$Helper$$anon$1@7740591d,\n",
       "    $sess.cmd18Wrapper$Helper$$anon$2@1323614f\n",
       "  ),\n",
       "  \u001b[32m3\u001b[39m\n",
       ")"
      ]
     },
     "execution_count": 21,
     "metadata": {},
     "output_type": "execute_result"
    }
   ],
   "source": [
    "(List(foo), 1) |+| (List(foo, bar), 2)"
   ]
  }
 ],
 "metadata": {
  "celltoolbar": "Slideshow",
  "kernelspec": {
   "display_name": "Scala",
   "language": "scala",
   "name": "scala"
  },
  "language_info": {
   "codemirror_mode": "text/x-scala",
   "file_extension": ".scala",
   "mimetype": "text/x-scala",
   "name": "scala212",
   "nbconvert_exporter": "script",
   "pygments_lexer": "scala",
   "version": "2.12.2"
  },
  "livereveal": {
   "theme": "beige"
  }
 },
 "nbformat": 4,
 "nbformat_minor": 2
}
