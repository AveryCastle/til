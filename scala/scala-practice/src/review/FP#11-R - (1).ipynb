{
 "cells": [
  {
   "cell_type": "markdown",
   "metadata": {
    "slideshow": {
     "slide_type": "slide"
    }
   },
   "source": [
    "<br><br><br>\n",
    "# <center>Functional Programming #11</center>\n",
    "\n",
    "\n",
    "\n",
    "\n",
    "### <center>2018. 7. 27.</center>\n",
    "<br><br><br>"
   ]
  },
  {
   "cell_type": "code",
   "execution_count": 1,
   "metadata": {
    "slideshow": {
     "slide_type": "subslide"
    }
   },
   "outputs": [
    {
     "data": {
      "text/plain": [
       "defined \u001b[32mtrait\u001b[39m \u001b[36mColor\u001b[39m\n",
       "defined \u001b[32mobject\u001b[39m \u001b[36mRed\u001b[39m\n",
       "defined \u001b[32mobject\u001b[39m \u001b[36mGreen\u001b[39m\n",
       "defined \u001b[32mobject\u001b[39m \u001b[36mBlue\u001b[39m\n",
       "\u001b[36mcolorEq\u001b[39m: (\u001b[32mColor\u001b[39m, \u001b[32mColor\u001b[39m) => \u001b[32mBoolean\u001b[39m = $sess.cmd0Wrapper$Helper$$Lambda$2975/215588472@178b13ca\n",
       "\u001b[36mres0_5\u001b[39m: \u001b[32mBoolean\u001b[39m = \u001b[32mtrue\u001b[39m\n",
       "\u001b[36mres0_6\u001b[39m: \u001b[32mBoolean\u001b[39m = \u001b[32mtrue\u001b[39m\n",
       "\u001b[36mres0_7\u001b[39m: \u001b[32mBoolean\u001b[39m = \u001b[32mfalse\u001b[39m"
      ]
     },
     "execution_count": 1,
     "metadata": {},
     "output_type": "execute_result"
    }
   ],
   "source": [
    "sealed trait Color\n",
    "case object Red extends Color\n",
    "case object Green extends Color\n",
    "case object Blue extends Color\n",
    "\n",
    "val colorEq: (Color, Color) => Boolean = {\n",
    "    case (Red, Red)     => true\n",
    "    case (Green, Green) => true\n",
    "    case (Blue, Blue)   => true\n",
    "    case _              => false\n",
    "}\n",
    "\n",
    "colorEq(Red, Red)\n",
    "colorEq(Green, Green)\n",
    "colorEq(Red, Green)"
   ]
  },
  {
   "cell_type": "code",
   "execution_count": 2,
   "metadata": {
    "slideshow": {
     "slide_type": "subslide"
    }
   },
   "outputs": [
    {
     "data": {
      "text/plain": [
       "defined \u001b[32mfunction\u001b[39m \u001b[36mlistEq\u001b[39m\n",
       "\u001b[36mres1_1\u001b[39m: \u001b[32mBoolean\u001b[39m = \u001b[32mtrue\u001b[39m\n",
       "\u001b[36mres1_2\u001b[39m: \u001b[32mBoolean\u001b[39m = \u001b[32mfalse\u001b[39m\n",
       "\u001b[36mres1_3\u001b[39m: \u001b[32mBoolean\u001b[39m = \u001b[32mtrue\u001b[39m\n",
       "\u001b[36mres1_4\u001b[39m: \u001b[32mBoolean\u001b[39m = \u001b[32mfalse\u001b[39m"
      ]
     },
     "execution_count": 2,
     "metadata": {},
     "output_type": "execute_result"
    }
   ],
   "source": [
    "def listEq[A]: (List[A], List[A]) => Boolean = {\n",
    "    case (Nil, Nil)     => true\n",
    "    case (x::xs, y::ys) => (x == y) && listEq(xs, ys)\n",
    "    case _              => false\n",
    "}\n",
    "\n",
    "listEq(List(1, 2, 3), List(1, 2, 3))\n",
    "listEq(List(1, 2, 3), List(1, 2))\n",
    "listEq(List(\"asdf\", \"jkl\"), List(\"asdf\", \"jkl\"))\n",
    "listEq(List(\"asdf\", \"jkl\"), Nil)"
   ]
  },
  {
   "cell_type": "markdown",
   "metadata": {
    "slideshow": {
     "slide_type": "subslide"
    }
   },
   "source": [
    "## <center>Type class</center>\n",
    "* In computer science, a type class is a type system construct that <font color=\"blue\">supports ***ad hoc polymorphism***</font>.\n",
    "* This is achieved by <font color=\"green\">adding ***constraints*** to type variables in <u>parametrically polymorphic types</u></font>. Such a constraint typically involves a type class **T** and a type variable **a**, and means that **a** can only be instantiated to a type whose members support the overloaded operations associated with **T**.\n",
    "<br>\n",
    "<div style=\"text-align: right\">from https://en.wikipedia.org/wiki/Type_class</div>"
   ]
  },
  {
   "cell_type": "markdown",
   "metadata": {
    "slideshow": {
     "slide_type": "subslide"
    }
   },
   "source": [
    "# Type class\n",
    "---\n",
    "\n",
    "## <center>Eq - Haskell</center>\n",
    "\n",
    "<pre>\n",
    "class BasicEq a where\n",
    "    isEqual :: a -> a -> Bool\n",
    "</pre>\n",
    "<br><br>"
   ]
  },
  {
   "cell_type": "markdown",
   "metadata": {
    "slideshow": {
     "slide_type": "subslide"
    }
   },
   "source": [
    "# Type class\n",
    "---\n",
    "\n",
    "## <center>Eq - Haskell</center>\n",
    "\n",
    "<pre>\n",
    "instance BasicEq Bool where\n",
    "    isEqual True  True  = True\n",
    "    isEqual False False = True\n",
    "    isEqual _     _     = False\n",
    "</pre>\n",
    "<br><br>"
   ]
  },
  {
   "cell_type": "markdown",
   "metadata": {
    "slideshow": {
     "slide_type": "subslide"
    }
   },
   "source": [
    "# Type class\n",
    "---\n",
    "\n",
    "## <center>Eq - Haskell</center>\n",
    "\n",
    "<pre>\n",
    "*Main> :t isEqual \n",
    "isEqual :: BasicEq a => a -> a -> Bool\n",
    "</pre>\n",
    "<br><br>"
   ]
  },
  {
   "cell_type": "code",
   "execution_count": 3,
   "metadata": {
    "slideshow": {
     "slide_type": "subslide"
    }
   },
   "outputs": [
    {
     "data": {
      "text/plain": [
       "\u001b[36masc\u001b[39m: \u001b[32mOrdering\u001b[39m[\u001b[32mInt\u001b[39m] = scala.math.Ordering$$anon$9@5f95ed3\n",
       "\u001b[36mdesc\u001b[39m: \u001b[32mOrdering\u001b[39m[\u001b[32mInt\u001b[39m] = scala.math.Ordering$$anon$9@3c1dcfb2\n",
       "\u001b[36mres2_2\u001b[39m: \u001b[32mList\u001b[39m[\u001b[32mInt\u001b[39m] = \u001b[33mList\u001b[39m(\u001b[32m2\u001b[39m, \u001b[32m3\u001b[39m, \u001b[32m4\u001b[39m)\n",
       "\u001b[36mres2_3\u001b[39m: \u001b[32mList\u001b[39m[\u001b[32mInt\u001b[39m] = \u001b[33mList\u001b[39m(\u001b[32m4\u001b[39m, \u001b[32m3\u001b[39m, \u001b[32m2\u001b[39m)"
      ]
     },
     "execution_count": 3,
     "metadata": {},
     "output_type": "execute_result"
    }
   ],
   "source": [
    "val asc = Ordering.fromLessThan[Int](_ < _)\n",
    "val desc = Ordering.fromLessThan[Int](_ > _)\n",
    "\n",
    "List(3, 4, 2).sorted(asc)\n",
    "List(3, 4, 2).sorted(desc)"
   ]
  },
  {
   "cell_type": "code",
   "execution_count": 4,
   "metadata": {
    "slideshow": {
     "slide_type": "subslide"
    }
   },
   "outputs": [
    {
     "data": {
      "text/plain": [
       "\u001b[36masc\u001b[39m: \u001b[32mOrdering\u001b[39m[\u001b[32mInt\u001b[39m] = scala.math.Ordering$$anon$9@8397d4a\n",
       "\u001b[36mres3_1\u001b[39m: \u001b[32mList\u001b[39m[\u001b[32mInt\u001b[39m] = \u001b[33mList\u001b[39m(\u001b[32m2\u001b[39m, \u001b[32m3\u001b[39m, \u001b[32m4\u001b[39m)"
      ]
     },
     "execution_count": 4,
     "metadata": {},
     "output_type": "execute_result"
    }
   ],
   "source": [
    "implicit val asc = Ordering.fromLessThan[Int](_ < _)\n",
    "\n",
    "List(3, 4, 2).sorted"
   ]
  },
  {
   "cell_type": "code",
   "execution_count": 4,
   "metadata": {
    "scrolled": true,
    "slideshow": {
     "slide_type": "subslide"
    }
   },
   "outputs": [
    {
     "name": "stderr",
     "output_type": "stream",
     "text": [
      "cmd4.sc:4: ambiguous implicit values:\n",
      " both value desc in class Helper of type => scala.math.Ordering[Int]\n",
      " and value asc in class Helper of type => scala.math.Ordering[Int]\n",
      " match expected type scala.math.Ordering[Int]\n",
      "val res4_2 = List(3, 4, 2).sorted\n",
      "                           ^"
     ]
    },
    {
     "ename": "",
     "evalue": "",
     "output_type": "error",
     "traceback": [
      "Compilation Failed"
     ]
    }
   ],
   "source": [
    "implicit val asc = Ordering.fromLessThan[Int](_ < _)\n",
    "implicit val desc = Ordering.fromLessThan[Int](_ > _)\n",
    "\n",
    "List(3, 4, 2).sorted"
   ]
  },
  {
   "cell_type": "code",
   "execution_count": 5,
   "metadata": {
    "slideshow": {
     "slide_type": "subslide"
    }
   },
   "outputs": [
    {
     "data": {
      "text/plain": [
       "\u001b[36mres4_0\u001b[39m: \u001b[32mList\u001b[39m[\u001b[32mInt\u001b[39m] = \u001b[33mList\u001b[39m(\u001b[32m2\u001b[39m, \u001b[32m3\u001b[39m, \u001b[32m4\u001b[39m)\n",
       "\u001b[36mres4_1\u001b[39m: \u001b[32mList\u001b[39m[\u001b[32mInt\u001b[39m] = \u001b[33mList\u001b[39m(\u001b[32m4\u001b[39m, \u001b[32m3\u001b[39m, \u001b[32m2\u001b[39m)"
      ]
     },
     "execution_count": 5,
     "metadata": {},
     "output_type": "execute_result"
    }
   ],
   "source": [
    "List(3, 4, 2).sorted(asc)\n",
    "List(3, 4, 2).sorted(desc)"
   ]
  },
  {
   "cell_type": "code",
   "execution_count": 6,
   "metadata": {
    "slideshow": {
     "slide_type": "subslide"
    }
   },
   "outputs": [
    {
     "data": {
      "text/plain": [
       "defined \u001b[32mtrait\u001b[39m \u001b[36mBasicEq\u001b[39m"
      ]
     },
     "execution_count": 6,
     "metadata": {},
     "output_type": "execute_result"
    }
   ],
   "source": [
    "trait BasicEq[A] {\n",
    "    def isEqual: A => A => Boolean\n",
    "}"
   ]
  },
  {
   "cell_type": "code",
   "execution_count": 7,
   "metadata": {
    "slideshow": {
     "slide_type": "subslide"
    }
   },
   "outputs": [
    {
     "data": {
      "text/plain": [
       "\u001b[36mintEq\u001b[39m: \u001b[32mAnyRef\u001b[39m with \u001b[32mBasicEq\u001b[39m[\u001b[32mInt\u001b[39m] = $sess.cmd6Wrapper$Helper$$anon$1@3940787"
      ]
     },
     "execution_count": 7,
     "metadata": {},
     "output_type": "execute_result"
    }
   ],
   "source": [
    "implicit val intEq = new BasicEq[Int] {\n",
    "    def isEqual = x => y => x == y\n",
    "}"
   ]
  },
  {
   "cell_type": "code",
   "execution_count": 8,
   "metadata": {
    "slideshow": {
     "slide_type": "subslide"
    }
   },
   "outputs": [
    {
     "data": {
      "text/plain": [
       "defined \u001b[32mfunction\u001b[39m \u001b[36misEqual\u001b[39m"
      ]
     },
     "execution_count": 8,
     "metadata": {},
     "output_type": "execute_result"
    }
   ],
   "source": [
    "def isEqual[A](x: A)(y: A)(implicit b: BasicEq[A]) = b.isEqual(x)(y)"
   ]
  },
  {
   "cell_type": "code",
   "execution_count": 9,
   "metadata": {
    "scrolled": true,
    "slideshow": {
     "slide_type": "subslide"
    }
   },
   "outputs": [
    {
     "data": {
      "text/plain": [
       "\u001b[36mres8_0\u001b[39m: \u001b[32mBoolean\u001b[39m = \u001b[32mfalse\u001b[39m\n",
       "\u001b[36mres8_1\u001b[39m: \u001b[32mBoolean\u001b[39m = \u001b[32mtrue\u001b[39m"
      ]
     },
     "execution_count": 9,
     "metadata": {},
     "output_type": "execute_result"
    }
   ],
   "source": [
    "isEqual(2)(3)\n",
    "isEqual(3)(3)"
   ]
  },
  {
   "cell_type": "code",
   "execution_count": 10,
   "metadata": {
    "slideshow": {
     "slide_type": "subslide"
    }
   },
   "outputs": [
    {
     "data": {
      "text/plain": [
       "\u001b[36mlistIntEq\u001b[39m: \u001b[32mAnyRef\u001b[39m with \u001b[32mBasicEq\u001b[39m[\u001b[32mList\u001b[39m[\u001b[32mInt\u001b[39m]] = $sess.cmd9Wrapper$Helper$$anon$1@271da072\n",
       "\u001b[36mres9_1\u001b[39m: \u001b[32mBoolean\u001b[39m = \u001b[32mtrue\u001b[39m\n",
       "\u001b[36mres9_2\u001b[39m: \u001b[32mBoolean\u001b[39m = \u001b[32mfalse\u001b[39m"
      ]
     },
     "execution_count": 10,
     "metadata": {},
     "output_type": "execute_result"
    }
   ],
   "source": [
    "implicit val listIntEq = new BasicEq[List[Int]] {\n",
    "    def isEqual = x => y => (x, y) match {\n",
    "        case (Nil, Nil)     => true\n",
    "        case (x::xs, y::ys) => x == y && isEqual(xs)(ys)\n",
    "        case _              => false\n",
    "    }\n",
    "}\n",
    "\n",
    "isEqual(List(1, 2, 3))(List(1, 2, 3))\n",
    "isEqual(List(1, 2, 3))(List(1, 2))"
   ]
  },
  {
   "cell_type": "markdown",
   "metadata": {
    "slideshow": {
     "slide_type": "subslide"
    }
   },
   "source": [
    "# Higher-order functions\n",
    "---\n",
    "\n",
    "## <center>Processing lists</center>\n",
    "\n",
    "\n",
    "<center>def map[A, B]: (A => B) => List[A] => List[B]</center>\n",
    "<br><br><br>"
   ]
  },
  {
   "cell_type": "code",
   "execution_count": 12,
   "metadata": {
    "scrolled": false,
    "slideshow": {
     "slide_type": "subslide"
    }
   },
   "outputs": [
    {
     "data": {
      "text/plain": [
       "defined \u001b[32mfunction\u001b[39m \u001b[36mmap\u001b[39m\n",
       "\u001b[36madd1\u001b[39m: \u001b[32mInt\u001b[39m => \u001b[32mInt\u001b[39m = $sess.cmd11Wrapper$Helper$$Lambda$3357/1004810357@6f8bb5e\n",
       "\u001b[36mres11_2\u001b[39m: \u001b[32mList\u001b[39m[\u001b[32mInt\u001b[39m] = \u001b[33mList\u001b[39m(\u001b[32m2\u001b[39m, \u001b[32m3\u001b[39m, \u001b[32m4\u001b[39m, \u001b[32m5\u001b[39m, \u001b[32m6\u001b[39m)\n",
       "\u001b[36mres11_3\u001b[39m: \u001b[32mList\u001b[39m[\u001b[32mString\u001b[39m] = \u001b[33mList\u001b[39m(\u001b[32m\"1>>>\"\u001b[39m, \u001b[32m\"2>>>\"\u001b[39m, \u001b[32m\"3>>>\"\u001b[39m, \u001b[32m\"4>>>\"\u001b[39m, \u001b[32m\"5>>>\"\u001b[39m)"
      ]
     },
     "execution_count": 12,
     "metadata": {},
     "output_type": "execute_result"
    }
   ],
   "source": [
    "def map[A, B]: (A => B) => List[A] => List[B] = f => {\n",
    "    case Nil   => Nil\n",
    "    case x::xs => f(x) :: map(f)(xs)\n",
    "}\n",
    "\n",
    "val add1: Int => Int = _ + 1\n",
    "map(add1)(List(1, 2, 3, 4, 5))\n",
    "\n",
    "map((x: Int) => x + \">>>\")(List(1, 2, 3, 4, 5))"
   ]
  },
  {
   "cell_type": "markdown",
   "metadata": {
    "slideshow": {
     "slide_type": "subslide"
    }
   },
   "source": [
    "# Algebraic data type\n",
    "---\n",
    "\n",
    "## <center>Recursive types - Haskell</center>\n",
    "\n",
    "<br>\n",
    "<center><font size=\"10\">data Tree a = Node (Tree a) a (Tree a) | Empty</font></center>\n",
    "<br><br>"
   ]
  },
  {
   "cell_type": "code",
   "execution_count": 13,
   "metadata": {
    "slideshow": {
     "slide_type": "subslide"
    }
   },
   "outputs": [
    {
     "data": {
      "text/plain": [
       "defined \u001b[32mtrait\u001b[39m \u001b[36mTree\u001b[39m\n",
       "defined \u001b[32mclass\u001b[39m \u001b[36mNode\u001b[39m\n",
       "defined \u001b[32mobject\u001b[39m \u001b[36mEmpty\u001b[39m\n",
       "defined \u001b[32mobject\u001b[39m \u001b[36mNode\u001b[39m\n",
       "\u001b[36mres12_4\u001b[39m: \u001b[32mTree\u001b[39m[\u001b[32mString\u001b[39m] = Node(Node(Empty,left child,Empty),parent,Node(Empty,right child,Empty))"
      ]
     },
     "execution_count": 13,
     "metadata": {},
     "output_type": "execute_result"
    }
   ],
   "source": [
    "sealed trait Tree[+A]\n",
    "case class Node[A](l: Tree[A], a: A, r: Tree[A]) extends Tree[A]\n",
    "case object Empty extends Tree[Nothing]\n",
    "\n",
    "object Node { def apply[A](l: Tree[A], a: A, r: Tree[A]): Tree[A] = new Node(l, a, r) }\n",
    "\n",
    "Node(Node(Empty, \"left child\", Empty),\n",
    "     \"parent\",\n",
    "     Node(Empty, \"right child\", Empty))"
   ]
  },
  {
   "cell_type": "code",
   "execution_count": 13,
   "metadata": {
    "scrolled": true,
    "slideshow": {
     "slide_type": "subslide"
    }
   },
   "outputs": [
    {
     "name": "stderr",
     "output_type": "stream",
     "text": [
      "cmd13.sc:3: type mismatch;\n",
      " found   : cmd13Wrapper.this.cmd12.wrapper.Tree[Int]\n",
      " required: List[Int]\n",
      "val res13_1 = map(add1)(tree)\n",
      "                        ^"
     ]
    },
    {
     "ename": "",
     "evalue": "",
     "output_type": "error",
     "traceback": [
      "Compilation Failed"
     ]
    }
   ],
   "source": [
    "val tree = Node((Node(Empty, 1, Node(Empty, 3, Empty))), 4, Node(Empty, 5, Node(Empty, 7, Empty)))\n",
    "\n",
    "map(add1)(tree)\n",
    "// def map[A, B]: (A => B) => List[A] => List[B]"
   ]
  },
  {
   "cell_type": "markdown",
   "metadata": {
    "slideshow": {
     "slide_type": "subslide"
    }
   },
   "source": [
    "# Generalization\n",
    "---\n",
    "\n",
    "## <center>map → fmap</center>\n",
    "\n",
    "<center>def map[A, B]: (A => B) => List[A] => List[B]</center><br>\n",
    "<center>def fmap[A, B]: (A => B) => F[A] => F[B]</center>\n",
    "<br><br>"
   ]
  },
  {
   "cell_type": "code",
   "execution_count": 14,
   "metadata": {
    "slideshow": {
     "slide_type": "subslide"
    }
   },
   "outputs": [
    {
     "data": {
      "text/plain": [
       "defined \u001b[32mtrait\u001b[39m \u001b[36mFunctor\u001b[39m"
      ]
     },
     "execution_count": 14,
     "metadata": {},
     "output_type": "execute_result"
    }
   ],
   "source": [
    "trait Functor[F[+_]] {\n",
    "    def fmap[A, B]: (A => B) => F[A] => F[B]\n",
    "}"
   ]
  },
  {
   "cell_type": "code",
   "execution_count": 15,
   "metadata": {
    "slideshow": {
     "slide_type": "subslide"
    }
   },
   "outputs": [
    {
     "data": {
      "text/plain": [
       "\u001b[36mtreeFunctor\u001b[39m: \u001b[32mAnyRef\u001b[39m with \u001b[32mFunctor\u001b[39m[\u001b[32mTree\u001b[39m] = $sess.cmd14Wrapper$Helper$$anon$1@5425650e"
      ]
     },
     "execution_count": 15,
     "metadata": {},
     "output_type": "execute_result"
    }
   ],
   "source": [
    "implicit val treeFunctor = new Functor[Tree] {\n",
    "    def fmap[A, B] = f => {\n",
    "        case Empty         => Empty\n",
    "        case Node(l, a, r) => Node(fmap(f)(l), f(a), fmap(f)(r))\n",
    "    }\n",
    "}"
   ]
  },
  {
   "cell_type": "code",
   "execution_count": 16,
   "metadata": {
    "scrolled": true,
    "slideshow": {
     "slide_type": "subslide"
    }
   },
   "outputs": [
    {
     "data": {
      "text/plain": [
       "defined \u001b[32mfunction\u001b[39m \u001b[36mfmap\u001b[39m"
      ]
     },
     "execution_count": 16,
     "metadata": {},
     "output_type": "execute_result"
    }
   ],
   "source": [
    "def fmap[A, B, F[+A]](f: A => B)(fa: F[A])(implicit e: Functor[F]) = e.fmap(f)(fa)"
   ]
  },
  {
   "cell_type": "code",
   "execution_count": 17,
   "metadata": {
    "slideshow": {
     "slide_type": "subslide"
    }
   },
   "outputs": [
    {
     "data": {
      "text/plain": [
       "\u001b[36mintTree\u001b[39m: \u001b[32mTree\u001b[39m[\u001b[32mInt\u001b[39m] = Node(Node(Empty,1,Node(Empty,3,Empty)),4,Node(Empty,5,Node(Empty,7,Empty)))\n",
       "\u001b[36mres16_1\u001b[39m: \u001b[32mTree\u001b[39m[\u001b[32mInt\u001b[39m] = Node(Node(Empty,2,Node(Empty,4,Empty)),5,Node(Empty,6,Node(Empty,8,Empty)))\n",
       "\u001b[36mres16_2\u001b[39m: \u001b[32mTree\u001b[39m[\u001b[32mInt\u001b[39m] = Empty\n",
       "\u001b[36mres16_3\u001b[39m: \u001b[32mTree\u001b[39m[\u001b[32mString\u001b[39m] = Node(Node(Empty,1>>>,Node(Empty,3>>>,Empty)),4>>>,Node(Empty,5>>>,Node(Empty,7>>>,Empty)))\n",
       "\u001b[36mstrTree\u001b[39m: \u001b[32mTree\u001b[39m[\u001b[32mString\u001b[39m] = Node(Node(Empty,left child,Empty),parent,Node(Empty,right child,Empty))\n",
       "\u001b[36mres16_5\u001b[39m: \u001b[32mTree\u001b[39m[\u001b[32mString\u001b[39m] = Node(Node(Empty,[left child],Empty),[parent],Node(Empty,[right child],Empty))\n",
       "\u001b[36mres16_6\u001b[39m: \u001b[32mTree\u001b[39m[\u001b[32mString\u001b[39m] = Empty"
      ]
     },
     "execution_count": 17,
     "metadata": {},
     "output_type": "execute_result"
    }
   ],
   "source": [
    "val intTree = Node((Node(Empty, 1, Node(Empty, 3, Empty))), 4, Node(Empty, 5, Node(Empty, 7, Empty)))\n",
    "fmap(add1)(intTree)\n",
    "fmap(add1)(Empty)\n",
    "fmap((x: Int) => x + \">>>\")(intTree)\n",
    "\n",
    "val strTree = Node(Node(Empty, \"left child\", Empty), \"parent\", Node(Empty, \"right child\", Empty))\n",
    "fmap((x: String) => \"[\" + x + \"]\")(strTree)\n",
    "fmap((x: String) => \"[\" + x + \"]\")(Empty)"
   ]
  },
  {
   "cell_type": "markdown",
   "metadata": {
    "slideshow": {
     "slide_type": "subslide"
    }
   },
   "source": [
    "# Existential types\n",
    "---\n",
    "\n",
    "## <center>[_]</center>"
   ]
  },
  {
   "cell_type": "code",
   "execution_count": 18,
   "metadata": {
    "slideshow": {
     "slide_type": "subslide"
    }
   },
   "outputs": [
    {
     "data": {
      "text/plain": [
       "\u001b[36ma\u001b[39m: \u001b[32mArray\u001b[39m[\u001b[32mInt\u001b[39m] = \u001b[33mArray\u001b[39m(\u001b[32m1\u001b[39m, \u001b[32m2\u001b[39m, \u001b[32m3\u001b[39m)\n",
       "defined \u001b[32mfunction\u001b[39m \u001b[36mlen\u001b[39m"
      ]
     },
     "execution_count": 18,
     "metadata": {},
     "output_type": "execute_result"
    }
   ],
   "source": [
    "val a = Array(1, 2, 3)\n",
    "\n",
    "def len(l: Array[Any]) = l.length\n",
    "// len(a)"
   ]
  },
  {
   "cell_type": "code",
   "execution_count": 19,
   "metadata": {
    "slideshow": {
     "slide_type": "subslide"
    }
   },
   "outputs": [
    {
     "data": {
      "text/plain": [
       "\u001b[36ma\u001b[39m: \u001b[32mArray\u001b[39m[\u001b[32mInt\u001b[39m] = \u001b[33mArray\u001b[39m(\u001b[32m1\u001b[39m, \u001b[32m2\u001b[39m, \u001b[32m3\u001b[39m)\n",
       "defined \u001b[32mfunction\u001b[39m \u001b[36mlen\u001b[39m\n",
       "\u001b[36mres18_2\u001b[39m: \u001b[32mInt\u001b[39m = \u001b[32m3\u001b[39m"
      ]
     },
     "execution_count": 19,
     "metadata": {},
     "output_type": "execute_result"
    }
   ],
   "source": [
    "val a = Array(1, 2, 3)\n",
    "\n",
    "def len[A](l: Array[A]) = l.length\n",
    "len(a)"
   ]
  },
  {
   "cell_type": "code",
   "execution_count": 20,
   "metadata": {
    "slideshow": {
     "slide_type": "subslide"
    }
   },
   "outputs": [
    {
     "data": {
      "text/plain": [
       "\u001b[36ma\u001b[39m: \u001b[32mArray\u001b[39m[\u001b[32mInt\u001b[39m] = \u001b[33mArray\u001b[39m(\u001b[32m1\u001b[39m, \u001b[32m2\u001b[39m, \u001b[32m3\u001b[39m)\n",
       "defined \u001b[32mfunction\u001b[39m \u001b[36mlen\u001b[39m\n",
       "\u001b[36mres19_2\u001b[39m: \u001b[32mInt\u001b[39m = \u001b[32m3\u001b[39m"
      ]
     },
     "execution_count": 20,
     "metadata": {},
     "output_type": "execute_result"
    }
   ],
   "source": [
    "val a = Array(1, 2, 3)\n",
    "\n",
    "// def len[A](l: Array[A]) = l.length\n",
    "def len(l: Array[_]) = l.length\n",
    "len(a)"
   ]
  },
  {
   "cell_type": "code",
   "execution_count": 21,
   "metadata": {
    "scrolled": true,
    "slideshow": {
     "slide_type": "subslide"
    }
   },
   "outputs": [
    {
     "data": {
      "text/plain": [
       "\u001b[36mlistFunctor\u001b[39m: \u001b[32mAnyRef\u001b[39m with \u001b[32mFunctor\u001b[39m[\u001b[32mList\u001b[39m] = $sess.cmd20Wrapper$Helper$$anon$1@b6b167e\n",
       "\u001b[36mres20_1\u001b[39m: \u001b[32mList\u001b[39m[\u001b[32mInt\u001b[39m] = \u001b[33mList\u001b[39m(\u001b[32m2\u001b[39m, \u001b[32m3\u001b[39m, \u001b[32m4\u001b[39m, \u001b[32m5\u001b[39m, \u001b[32m6\u001b[39m)\n",
       "\u001b[36mres20_2\u001b[39m: \u001b[32mList\u001b[39m[\u001b[32mString\u001b[39m] = \u001b[33mList\u001b[39m(\u001b[32m\"1>>>\"\u001b[39m, \u001b[32m\"2>>>\"\u001b[39m, \u001b[32m\"3>>>\"\u001b[39m, \u001b[32m\"4>>>\"\u001b[39m, \u001b[32m\"5>>>\"\u001b[39m)\n",
       "\u001b[36mres20_3\u001b[39m: \u001b[32mList\u001b[39m[\u001b[32mInt\u001b[39m] = \u001b[33mList\u001b[39m()\n",
       "\u001b[36mres20_4\u001b[39m: \u001b[32mList\u001b[39m[\u001b[32mInt\u001b[39m] = \u001b[33mList\u001b[39m()\n",
       "\u001b[36mres20_5\u001b[39m: \u001b[32mList\u001b[39m[\u001b[32mString\u001b[39m] = \u001b[33mList\u001b[39m()"
      ]
     },
     "execution_count": 21,
     "metadata": {},
     "output_type": "execute_result"
    }
   ],
   "source": [
    "implicit val listFunctor = new Functor[List] {\n",
    "    def fmap[A, B] = f => {\n",
    "        case Nil   => Nil\n",
    "        case x::xs => f(x)::fmap(f)(xs)\n",
    "    }\n",
    "}\n",
    "\n",
    "fmap(add1)(List(1, 2, 3, 4, 5))\n",
    "fmap((x: Int) => x + \">>>\")(List(1, 2, 3, 4, 5))\n",
    "\n",
    "fmap(add1)(List())\n",
    "fmap(add1)(Nil)\n",
    "fmap((x: Int) => x + \">>>\")(Nil)"
   ]
  },
  {
   "cell_type": "code",
   "execution_count": 22,
   "metadata": {
    "scrolled": true,
    "slideshow": {
     "slide_type": "subslide"
    }
   },
   "outputs": [
    {
     "data": {
      "text/plain": [
       "defined \u001b[32mtrait\u001b[39m \u001b[36mMaybe\u001b[39m\n",
       "defined \u001b[32mclass\u001b[39m \u001b[36mJust\u001b[39m\n",
       "defined \u001b[32mobject\u001b[39m \u001b[36mNahthing\u001b[39m\n",
       "defined \u001b[32mobject\u001b[39m \u001b[36mJust\u001b[39m"
      ]
     },
     "execution_count": 22,
     "metadata": {},
     "output_type": "execute_result"
    }
   ],
   "source": [
    "sealed trait Maybe[+A]\n",
    "case class Just[A](a: A) extends Maybe[A]\n",
    "case object Nahthing extends Maybe[Nothing]\n",
    "\n",
    "object Just { def apply[A](a: A): Maybe[A] = new Just(a) }"
   ]
  },
  {
   "cell_type": "code",
   "execution_count": 23,
   "metadata": {
    "scrolled": true,
    "slideshow": {
     "slide_type": "subslide"
    }
   },
   "outputs": [
    {
     "data": {
      "text/plain": [
       "\u001b[36mmaybeFunctor\u001b[39m: \u001b[32mAnyRef\u001b[39m with \u001b[32mFunctor\u001b[39m[\u001b[32mMaybe\u001b[39m] = $sess.cmd22Wrapper$Helper$$anon$1@3f78e250\n",
       "\u001b[36mres22_1\u001b[39m: \u001b[32mMaybe\u001b[39m[\u001b[32mInt\u001b[39m] = Just(4)\n",
       "\u001b[36mres22_2\u001b[39m: \u001b[32mMaybe\u001b[39m[\u001b[32mString\u001b[39m] = Just(3>>>)\n",
       "\u001b[36mres22_3\u001b[39m: \u001b[32mMaybe\u001b[39m[\u001b[32mString\u001b[39m] = Just([test])"
      ]
     },
     "execution_count": 23,
     "metadata": {},
     "output_type": "execute_result"
    }
   ],
   "source": [
    "implicit val maybeFunctor = new Functor[Maybe] {\n",
    "    def fmap[A, B] = f => {\n",
    "        case Nahthing => Nahthing\n",
    "        case Just(a)  => Just(f(a))\n",
    "    }\n",
    "}\n",
    "\n",
    "fmap(add1)(Just(3))\n",
    "fmap((x: Int) => x + \">>>\")(Just(3))\n",
    "fmap((x: String) => \"[\" + x + \"]\")(Just(\"test\"))"
   ]
  },
  {
   "cell_type": "code",
   "execution_count": 24,
   "metadata": {
    "slideshow": {
     "slide_type": "subslide"
    }
   },
   "outputs": [
    {
     "data": {
      "text/plain": [
       "defined \u001b[32mtrait\u001b[39m \u001b[36mApplicative\u001b[39m"
      ]
     },
     "execution_count": 24,
     "metadata": {},
     "output_type": "execute_result"
    }
   ],
   "source": [
    "trait Applicative[F[+_]] extends Functor[F] {\n",
    "    def pure[A]: A => F[A]\n",
    "    def app[A, B]: (F[A => B]) => F[A] => F[B]\n",
    "//     def fmap[A, B]: (A => B) => F[A] => F[B] = f => fa => app(pure(f))(fa)\n",
    "}"
   ]
  },
  {
   "cell_type": "code",
   "execution_count": 25,
   "metadata": {
    "slideshow": {
     "slide_type": "subslide"
    }
   },
   "outputs": [
    {
     "data": {
      "text/plain": [
       "\u001b[36mmaybeApplicative\u001b[39m: \u001b[32mAnyRef\u001b[39m with \u001b[32mApplicative\u001b[39m[\u001b[32mMaybe\u001b[39m] = $sess.cmd24Wrapper$Helper$$anon$1@328b0a7"
      ]
     },
     "execution_count": 25,
     "metadata": {},
     "output_type": "execute_result"
    }
   ],
   "source": [
    "implicit val maybeApplicative = new Applicative[Maybe] {\n",
    "    def pure[A] = Just[A]\n",
    "    def app[A, B] = ff => fa => (ff, fa) match {\n",
    "        case (Nahthing, _)  => Nahthing\n",
    "        case (Just(f), fa)  => fmap(f)(fa)\n",
    "    }\n",
    "    def fmap[A, B] = fa => {\n",
    "        case Nahthing => Nahthing\n",
    "        case Just(a)  => Just(fa(a))\n",
    "    }\n",
    "}"
   ]
  },
  {
   "cell_type": "code",
   "execution_count": 26,
   "metadata": {
    "scrolled": true,
    "slideshow": {
     "slide_type": "subslide"
    }
   },
   "outputs": [
    {
     "data": {
      "text/plain": [
       "defined \u001b[32mfunction\u001b[39m \u001b[36mapp\u001b[39m"
      ]
     },
     "execution_count": 26,
     "metadata": {},
     "output_type": "execute_result"
    }
   ],
   "source": [
    "def app[A, B, F[+A]](ff: F[A => B])(fa: F[A])(implicit e: Applicative[F]) = e.app(ff)(fa)"
   ]
  },
  {
   "cell_type": "code",
   "execution_count": 27,
   "metadata": {
    "slideshow": {
     "slide_type": "subslide"
    }
   },
   "outputs": [
    {
     "data": {
      "text/plain": [
       "\u001b[36mres26_0\u001b[39m: \u001b[32mMaybe\u001b[39m[\u001b[32mInt\u001b[39m] = Just(2)\n",
       "\u001b[36mres26_1\u001b[39m: \u001b[32mMaybe\u001b[39m[\u001b[32mString\u001b[39m] = Just(1>>>)\n",
       "\u001b[36mres26_2\u001b[39m: \u001b[32mMaybe\u001b[39m[\u001b[32mString\u001b[39m] = Just([test])\n",
       "\u001b[36mres26_3\u001b[39m: \u001b[32mMaybe\u001b[39m[\u001b[32mNothing\u001b[39m] = Nahthing\n",
       "\u001b[36mres26_4\u001b[39m: \u001b[32mMaybe\u001b[39m[\u001b[32mInt\u001b[39m] = Nahthing"
      ]
     },
     "execution_count": 27,
     "metadata": {},
     "output_type": "execute_result"
    }
   ],
   "source": [
    "app(Just(add1))(Just(1))\n",
    "app(Just((x: Int) => x + \">>>\"))(Just(1))\n",
    "app(Just((x: String) => \"[\" + x + \"]\"))(Just(\"test\"))\n",
    "\n",
    "app(Nahthing)(Just(1))\n",
    "app(Just(add1))(Nahthing)"
   ]
  },
  {
   "cell_type": "code",
   "execution_count": 28,
   "metadata": {
    "scrolled": true,
    "slideshow": {
     "slide_type": "subslide"
    }
   },
   "outputs": [
    {
     "data": {
      "text/plain": [
       "defined \u001b[32mfunction\u001b[39m \u001b[36mpure\u001b[39m"
      ]
     },
     "execution_count": 28,
     "metadata": {},
     "output_type": "execute_result"
    }
   ],
   "source": [
    "def pure[A, F[+A]](a: A)(implicit e: Applicative[F]) = e.pure(a)"
   ]
  },
  {
   "cell_type": "code",
   "execution_count": 29,
   "metadata": {
    "slideshow": {
     "slide_type": "subslide"
    }
   },
   "outputs": [
    {
     "data": {
      "text/plain": [
       "\u001b[36madd\u001b[39m: \u001b[32mInt\u001b[39m => \u001b[32mInt\u001b[39m => \u001b[32mInt\u001b[39m = $sess.cmd28Wrapper$Helper$$Lambda$3715/1124508918@4c8ece58\n",
       "\u001b[36mres28_1\u001b[39m: \u001b[32mMaybe\u001b[39m[\u001b[32mInt\u001b[39m] = Just(7)\n",
       "\u001b[36mres28_2\u001b[39m: \u001b[32mMaybe\u001b[39m[\u001b[32mInt\u001b[39m] = Nahthing\n",
       "\u001b[36mres28_3\u001b[39m: \u001b[32mMaybe\u001b[39m[\u001b[32mInt\u001b[39m] = Nahthing"
      ]
     },
     "execution_count": 29,
     "metadata": {},
     "output_type": "execute_result"
    }
   ],
   "source": [
    "val add: Int => Int => Int = x => y => x + y\n",
    "\n",
    "app(app(pure(add))(Just(3)))(Just(4))\n",
    "app(app(pure(add))(Just(3)))(Nahthing)\n",
    "app(app(pure(add))(Nahthing))(Just(4))"
   ]
  }
 ],
 "metadata": {
  "celltoolbar": "Slideshow",
  "kernelspec": {
   "display_name": "Scala",
   "language": "scala",
   "name": "scala"
  },
  "language_info": {
   "codemirror_mode": "text/x-scala",
   "file_extension": ".scala",
   "mimetype": "text/x-scala",
   "name": "scala212",
   "nbconvert_exporter": "script",
   "pygments_lexer": "scala",
   "version": "2.12.2"
  },
  "livereveal": {
   "theme": "beige"
  }
 },
 "nbformat": 4,
 "nbformat_minor": 2
}
