{
 "cells": [
  {
   "cell_type": "code",
   "execution_count": 1,
   "metadata": {
    "slideshow": {
     "slide_type": "skip"
    }
   },
   "outputs": [
    {
     "data": {
      "text/plain": [
       "\u001b[36madd1\u001b[39m: \u001b[32mInt\u001b[39m => \u001b[32mInt\u001b[39m = $sess.cmd0Wrapper$Helper$$Lambda$2770/1824809014@4949945\n",
       "\u001b[36mmultiply3\u001b[39m: \u001b[32mInt\u001b[39m => \u001b[32mInt\u001b[39m = $sess.cmd0Wrapper$Helper$$Lambda$2771/108260646@d5dd68f\n",
       "\u001b[36madd\u001b[39m: \u001b[32mInt\u001b[39m => \u001b[32mInt\u001b[39m => \u001b[32mInt\u001b[39m = $sess.cmd0Wrapper$Helper$$Lambda$2772/1860696839@2f2a9f25\n",
       "\u001b[36mmultiply\u001b[39m: \u001b[32mInt\u001b[39m => \u001b[32mInt\u001b[39m => \u001b[32mInt\u001b[39m = $sess.cmd0Wrapper$Helper$$Lambda$2773/1049128565@641776d9"
      ]
     },
     "execution_count": 1,
     "metadata": {},
     "output_type": "execute_result"
    }
   ],
   "source": [
    "val add1: Int => Int = _ + 1\n",
    "val multiply3: Int => Int = _ * 3\n",
    "\n",
    "val add: Int => Int => Int = x => y => x + y\n",
    "val multiply: Int => Int => Int = x => y => x * y"
   ]
  },
  {
   "cell_type": "code",
   "execution_count": 2,
   "metadata": {
    "scrolled": true,
    "slideshow": {
     "slide_type": "subslide"
    }
   },
   "outputs": [
    {
     "data": {
      "text/plain": [
       "\u001b[32mimport \u001b[39m\u001b[36m$ivy.$                               \u001b[39m"
      ]
     },
     "execution_count": 2,
     "metadata": {},
     "output_type": "execute_result"
    }
   ],
   "source": [
    "import $ivy.`org.typelevel::cats-core:1.1.0`"
   ]
  },
  {
   "cell_type": "code",
   "execution_count": 3,
   "metadata": {
    "slideshow": {
     "slide_type": "subslide"
    }
   },
   "outputs": [
    {
     "data": {
      "text/plain": [
       "\u001b[32mimport \u001b[39m\u001b[36mcats.instances.all._\n",
       "\u001b[39m\n",
       "\u001b[32mimport \u001b[39m\u001b[36mcats.syntax.all._\n",
       "\u001b[39m\n",
       "\u001b[32mimport \u001b[39m\u001b[36mcats.implicits._\u001b[39m"
      ]
     },
     "execution_count": 3,
     "metadata": {},
     "output_type": "execute_result"
    }
   ],
   "source": [
    "import cats.instances.all._\n",
    "import cats.syntax.all._\n",
    "import cats.implicits._"
   ]
  },
  {
   "cell_type": "code",
   "execution_count": 4,
   "metadata": {
    "slideshow": {
     "slide_type": "subslide"
    }
   },
   "outputs": [
    {
     "data": {
      "text/plain": [
       "\u001b[32mimport \u001b[39m\u001b[36mcats.Functor\n",
       "\n",
       "\u001b[39m\n",
       "\u001b[36mres3_1\u001b[39m: \u001b[32mList\u001b[39m[\u001b[32mInt\u001b[39m] = \u001b[33mList\u001b[39m(\u001b[32m4\u001b[39m, \u001b[32m7\u001b[39m)\n",
       "\u001b[36mres3_2\u001b[39m: \u001b[32mOption\u001b[39m[\u001b[32mInt\u001b[39m] = \u001b[33mSome\u001b[39m(\u001b[32m5\u001b[39m)\n",
       "\u001b[36mres3_3\u001b[39m: \u001b[32mOption\u001b[39m[\u001b[32mInt\u001b[39m] = None\n",
       "\u001b[36mres3_4\u001b[39m: \u001b[32mOption\u001b[39m[\u001b[32mInt\u001b[39m] = \u001b[33mSome\u001b[39m(\u001b[32m3\u001b[39m)\n",
       "\u001b[36mres3_5\u001b[39m: \u001b[32mOption\u001b[39m[\u001b[32mInt\u001b[39m] = \u001b[33mSome\u001b[39m(\u001b[32m6\u001b[39m)\n",
       "\u001b[36mlistOpt\u001b[39m: \u001b[32mcats\u001b[39m.\u001b[32mFunctor\u001b[39m[\u001b[32mList\u001b[39m[\u001b[32mOption\u001b[39m[\u001b[32mα\u001b[39m]]] = cats.Functor$$anon$1@7abe7b4c\n",
       "\u001b[36mres3_7\u001b[39m: \u001b[32mList\u001b[39m[\u001b[32mOption\u001b[39m[\u001b[32mInt\u001b[39m]] = \u001b[33mList\u001b[39m(\u001b[33mSome\u001b[39m(\u001b[32m2\u001b[39m), None, \u001b[33mSome\u001b[39m(\u001b[32m4\u001b[39m))"
      ]
     },
     "execution_count": 4,
     "metadata": {},
     "output_type": "execute_result"
    }
   ],
   "source": [
    "import cats.Functor\n",
    "\n",
    "Functor[List].map(List(\"qwer\", \"asdfjkl\"))(_.length)\n",
    "\n",
    "Functor[Option].map(Option(\"Hello\"))(_.length)\n",
    "Functor[Option].map(None: Option[String])(_.length)\n",
    "\n",
    "Functor[Option].map(Some(2))(add1)\n",
    "Functor[Option].map(Some(2))(multiply3)\n",
    "\n",
    "val listOpt = Functor[List] compose Functor[Option]\n",
    "listOpt.map(List(Some(1), None, Some(3)))(_ + 1)"
   ]
  },
  {
   "cell_type": "code",
   "execution_count": 5,
   "metadata": {
    "scrolled": true,
    "slideshow": {
     "slide_type": "subslide"
    }
   },
   "outputs": [
    {
     "data": {
      "text/plain": [
       "\u001b[32mimport \u001b[39m\u001b[36mcats.Applicative\n",
       "\n",
       "\u001b[39m\n",
       "\u001b[36mres4_1\u001b[39m: \u001b[32mOption\u001b[39m[\u001b[32mInt\u001b[39m] = \u001b[33mSome\u001b[39m(\u001b[32m1\u001b[39m)\n",
       "\u001b[36mres4_2\u001b[39m: \u001b[32mList\u001b[39m[\u001b[32mInt\u001b[39m] = \u001b[33mList\u001b[39m(\u001b[32m1\u001b[39m)\n",
       "\u001b[36mres4_3\u001b[39m: \u001b[32mList\u001b[39m[\u001b[32mOption\u001b[39m[\u001b[32mInt\u001b[39m]] = \u001b[33mList\u001b[39m(\u001b[33mSome\u001b[39m(\u001b[32m1\u001b[39m))\n",
       "\u001b[36mres4_4\u001b[39m: \u001b[32mOption\u001b[39m[\u001b[32mInt\u001b[39m] = \u001b[33mSome\u001b[39m(\u001b[32m3\u001b[39m)\n",
       "\u001b[36mres4_5\u001b[39m: \u001b[32mOption\u001b[39m[\u001b[32mInt\u001b[39m] = \u001b[33mSome\u001b[39m(\u001b[32m5\u001b[39m)"
      ]
     },
     "execution_count": 5,
     "metadata": {},
     "output_type": "execute_result"
    }
   ],
   "source": [
    "import cats.Applicative\n",
    "\n",
    "Applicative[Option].pure(1)\n",
    "Applicative[List].pure(1)\n",
    "\n",
    "(Applicative[List] compose Applicative[Option]).pure(1)\n",
    "\n",
    "Applicative[Option].ap(Some(add1))(Some(2))\n",
    "Applicative[Option].ap(Applicative[Option].ap(Some(add))(Some(2)))(Some(3))"
   ]
  },
  {
   "cell_type": "code",
   "execution_count": 6,
   "metadata": {
    "scrolled": true,
    "slideshow": {
     "slide_type": "subslide"
    }
   },
   "outputs": [
    {
     "data": {
      "text/plain": [
       "\u001b[36mres5_0\u001b[39m: \u001b[32mOption\u001b[39m[\u001b[32mInt\u001b[39m] = \u001b[33mSome\u001b[39m(\u001b[32m3\u001b[39m)\n",
       "\u001b[36mres5_1\u001b[39m: \u001b[32mOption\u001b[39m[\u001b[32mInt\u001b[39m] = \u001b[33mSome\u001b[39m(\u001b[32m5\u001b[39m)\n",
       "\u001b[36mres5_2\u001b[39m: \u001b[32mList\u001b[39m[\u001b[32mInt\u001b[39m] = \u001b[33mList\u001b[39m(\u001b[32m2\u001b[39m, \u001b[32m3\u001b[39m, \u001b[32m4\u001b[39m, \u001b[32m3\u001b[39m, \u001b[32m6\u001b[39m, \u001b[32m9\u001b[39m)"
      ]
     },
     "execution_count": 6,
     "metadata": {},
     "output_type": "execute_result"
    }
   ],
   "source": [
    "// Applicative[Option].ap(Some(add1))(Some(2))\n",
    "add1.some ap 2.some\n",
    "\n",
    "// Applicative[Option].ap(Applicative[Option].ap(Some(add))(Some(2)))(Some(3))\n",
    "add.some ap 2.some ap 3.some\n",
    "\n",
    "List(add1, multiply3) ap List(1, 2, 3)"
   ]
  },
  {
   "cell_type": "code",
   "execution_count": 7,
   "metadata": {
    "slideshow": {
     "slide_type": "subslide"
    }
   },
   "outputs": [
    {
     "data": {
      "text/plain": [
       "\u001b[32mimport \u001b[39m\u001b[36mcats.Semigroup\n",
       "\n",
       "\u001b[39m\n",
       "\u001b[36mres6_1\u001b[39m: \u001b[32mInt\u001b[39m = \u001b[32m3\u001b[39m\n",
       "\u001b[36mres6_2\u001b[39m: \u001b[32mList\u001b[39m[\u001b[32mInt\u001b[39m] = \u001b[33mList\u001b[39m(\u001b[32m1\u001b[39m, \u001b[32m2\u001b[39m, \u001b[32m3\u001b[39m, \u001b[32m4\u001b[39m, \u001b[32m5\u001b[39m, \u001b[32m6\u001b[39m)\n",
       "\u001b[36mres6_3\u001b[39m: \u001b[32mOption\u001b[39m[\u001b[32mInt\u001b[39m] = \u001b[33mSome\u001b[39m(\u001b[32m3\u001b[39m)\n",
       "\u001b[36mres6_4\u001b[39m: \u001b[32mOption\u001b[39m[\u001b[32mInt\u001b[39m] = \u001b[33mSome\u001b[39m(\u001b[32m1\u001b[39m)"
      ]
     },
     "execution_count": 7,
     "metadata": {},
     "output_type": "execute_result"
    }
   ],
   "source": [
    "import cats.Semigroup\n",
    "\n",
    "Semigroup[Int].combine(1, 2)\n",
    "Semigroup[List[Int]].combine(List(1, 2, 3), List(4, 5, 6))\n",
    "Semigroup[Option[Int]].combine(Option(1), Option(2))\n",
    "Semigroup[Option[Int]].combine(Option(1), None)"
   ]
  },
  {
   "cell_type": "code",
   "execution_count": 8,
   "metadata": {
    "slideshow": {
     "slide_type": "subslide"
    }
   },
   "outputs": [
    {
     "data": {
      "text/plain": [
       "\u001b[36mres7_0\u001b[39m: \u001b[32mInt\u001b[39m = \u001b[32m3\u001b[39m\n",
       "\u001b[36mres7_1\u001b[39m: \u001b[32mString\u001b[39m = \u001b[32m\"Hello, world!\"\u001b[39m\n",
       "\u001b[36mres7_2\u001b[39m: \u001b[32mSet\u001b[39m[\u001b[32mInt\u001b[39m] = \u001b[33mSet\u001b[39m(\u001b[32m1\u001b[39m, \u001b[32m2\u001b[39m, \u001b[32m3\u001b[39m, \u001b[32m4\u001b[39m)\n",
       "\u001b[36mres7_3\u001b[39m: \u001b[32mOption\u001b[39m[\u001b[32mInt\u001b[39m] = \u001b[33mSome\u001b[39m(\u001b[32m3\u001b[39m)\n",
       "\u001b[36mres7_4\u001b[39m: \u001b[32mOption\u001b[39m[\u001b[32mInt\u001b[39m] = \u001b[33mSome\u001b[39m(\u001b[32m1\u001b[39m)"
      ]
     },
     "execution_count": 8,
     "metadata": {},
     "output_type": "execute_result"
    }
   ],
   "source": [
    "1 |+| 2\n",
    "\"Hello, \" |+| \"world!\"\n",
    "Set(1, 2) |+| Set(2, 3, 4)\n",
    "Option(1) |+| Option(2)\n",
    "Option(1) |+| None"
   ]
  },
  {
   "cell_type": "code",
   "execution_count": 9,
   "metadata": {
    "slideshow": {
     "slide_type": "subslide"
    }
   },
   "outputs": [
    {
     "data": {
      "text/plain": [
       "\u001b[32mimport \u001b[39m\u001b[36mcats.Monoid\n",
       "\n",
       "\u001b[39m\n",
       "defined \u001b[32mfunction\u001b[39m \u001b[36mcombineAll\u001b[39m\n",
       "\u001b[36mres8_2\u001b[39m: \u001b[32mInt\u001b[39m = \u001b[32m6\u001b[39m\n",
       "\u001b[36mres8_3\u001b[39m: \u001b[32mString\u001b[39m = \u001b[32m\"hello world\"\u001b[39m\n",
       "\u001b[36mres8_4\u001b[39m: \u001b[32mMap\u001b[39m[\u001b[32mChar\u001b[39m, \u001b[32mInt\u001b[39m] = \u001b[33mMap\u001b[39m(\u001b[32m'b'\u001b[39m -> \u001b[32m7\u001b[39m, \u001b[32m'c'\u001b[39m -> \u001b[32m5\u001b[39m, \u001b[32m'a'\u001b[39m -> \u001b[32m3\u001b[39m)\n",
       "\u001b[36mres8_5\u001b[39m: \u001b[32mSet\u001b[39m[\u001b[32mInt\u001b[39m] = \u001b[33mSet\u001b[39m(\u001b[32m5\u001b[39m, \u001b[32m1\u001b[39m, \u001b[32m2\u001b[39m, \u001b[32m3\u001b[39m, \u001b[32m4\u001b[39m)"
      ]
     },
     "execution_count": 9,
     "metadata": {},
     "output_type": "execute_result"
    }
   ],
   "source": [
    "import cats.Monoid\n",
    "\n",
    "def combineAll[A: Monoid](as: List[A]): A =\n",
    "    as.foldLeft(Monoid[A].empty)(Monoid[A].combine)\n",
    "\n",
    "combineAll(List(1, 2, 3))\n",
    "combineAll(List(\"hello\", \" \", \"world\"))\n",
    "combineAll(List(Map('a' -> 1), Map('a' -> 2, 'b' -> 3), Map('b' -> 4, 'c' -> 5)))\n",
    "combineAll(List(Set(1, 2), Set(2, 3, 4, 5)))"
   ]
  },
  {
   "cell_type": "code",
   "execution_count": 10,
   "metadata": {
    "slideshow": {
     "slide_type": "subslide"
    }
   },
   "outputs": [
    {
     "data": {
      "text/plain": [
       "\u001b[32mimport \u001b[39m\u001b[36mcats.Monad\n",
       "\n",
       "\u001b[39m\n",
       "\u001b[36mres9_1\u001b[39m: \u001b[32mOption\u001b[39m[\u001b[32mInt\u001b[39m] = \u001b[33mSome\u001b[39m(\u001b[32m42\u001b[39m)\n",
       "\u001b[36mres9_2\u001b[39m: \u001b[32mList\u001b[39m[\u001b[32mInt\u001b[39m] = \u001b[33mList\u001b[39m(\u001b[32m42\u001b[39m)\n",
       "\u001b[36mres9_3\u001b[39m: \u001b[32mOption\u001b[39m[\u001b[32mInt\u001b[39m] = \u001b[33mSome\u001b[39m(\u001b[32m3\u001b[39m)\n",
       "\u001b[36mres9_4\u001b[39m: \u001b[32mList\u001b[39m[\u001b[32mInt\u001b[39m] = \u001b[33mList\u001b[39m(\u001b[32m1\u001b[39m, \u001b[32m-1\u001b[39m, \u001b[32m2\u001b[39m, \u001b[32m-2\u001b[39m, \u001b[32m3\u001b[39m, \u001b[32m-3\u001b[39m)"
      ]
     },
     "execution_count": 10,
     "metadata": {},
     "output_type": "execute_result"
    }
   ],
   "source": [
    "import cats.Monad\n",
    "\n",
    "Monad[Option].pure(42)\n",
    "Monad[List].pure(42)\n",
    "\n",
    "Monad[Option].flatMap(Some(2))(x => Some(x + 1))\n",
    "Monad[List].flatMap(List(1, 2, 3))(x => List(x, -x))"
   ]
  },
  {
   "cell_type": "code",
   "execution_count": 11,
   "metadata": {
    "slideshow": {
     "slide_type": "subslide"
    }
   },
   "outputs": [
    {
     "data": {
      "text/plain": [
       "\u001b[36mmadd1\u001b[39m: \u001b[32mInt\u001b[39m => \u001b[32mOption\u001b[39m[\u001b[32mInt\u001b[39m] = $sess.cmd10Wrapper$Helper$$Lambda$3480/1570513839@5e6c8dbb\n",
       "\u001b[36mmmultiply3\u001b[39m: \u001b[32mInt\u001b[39m => \u001b[32mOption\u001b[39m[\u001b[32mInt\u001b[39m] = $sess.cmd10Wrapper$Helper$$Lambda$3481/1040102182@63ae55e5\n",
       "\u001b[36mres10_2\u001b[39m: \u001b[32mOption\u001b[39m[\u001b[32mInt\u001b[39m] = \u001b[33mSome\u001b[39m(\u001b[32m94\u001b[39m)"
      ]
     },
     "execution_count": 11,
     "metadata": {},
     "output_type": "execute_result"
    }
   ],
   "source": [
    "val madd1: Int => Option[Int] = x => Some(x + 1)\n",
    "val mmultiply3: Int => Option[Int] = x => Some(x * 3)\n",
    "\n",
    "Monad[Option].pure(9) >>= madd1 >>= mmultiply3 >>= madd1 >>= mmultiply3 >>= madd1"
   ]
  }
 ],
 "metadata": {
  "celltoolbar": "Slideshow",
  "kernelspec": {
   "display_name": "Scala",
   "language": "scala",
   "name": "scala"
  },
  "language_info": {
   "codemirror_mode": "text/x-scala",
   "file_extension": ".scala",
   "mimetype": "text/x-scala",
   "name": "scala212",
   "nbconvert_exporter": "script",
   "pygments_lexer": "scala",
   "version": "2.12.2"
  }
 },
 "nbformat": 4,
 "nbformat_minor": 2
}
