{
 "cells": [
  {
   "cell_type": "code",
   "execution_count": 12,
   "id": "af4ba77b-6ab3-472e-af9d-ae19490c4fd8",
   "metadata": {},
   "outputs": [],
   "source": [
    "import requests\n",
    "import json\n",
    "from datetime import datetime, timedelta\n",
    "\n",
    "# API를 요청할 URL과 인증키\n",
    "BASE_URL = \"https://www.koreaexim.go.kr/site/program/financial/exchangeJSON\"\n",
    "AUTH_KEY = \"1p25bUnirmJUSZgqS9iWm4HrFM2ODhra\"  # 여기에 본인의 인증키를 넣어주세요\n",
    "\n",
    "# 오늘 날짜부터 지정한 day 수만큼 날짜를 생성하는 함수\n",
    "def generate_dates(start_date, total_days):\n",
    "    dates = []\n",
    "    end_date = start_date - timedelta(days=total_days)\n",
    "    while start_date > end_date:\n",
    "        dates.append(start_date.strftime(\"%Y%m%d\"))\n",
    "        start_date -= timedelta(days=1)\n",
    "    return dates\n",
    "\n",
    "# 주어진 날짜에 대해 USD 환율 정보를 요청하는 함수\n",
    "def fetch_usd_data_for_date(date):\n",
    "    params = {\n",
    "        \"authkey\": AUTH_KEY,\n",
    "        \"searchdate\": date,\n",
    "        \"data\": \"AP01\"\n",
    "    }\n",
    "    response = requests.get(BASE_URL, params=params)\n",
    "    \n",
    "    if response.status_code == 200:\n",
    "        data = response.json()\n",
    "        return data\n",
    "    else:\n",
    "        return None\n",
    "\n",
    "# USD 데이터를 날짜별로 저장하는 함수\n",
    "def get_usd_bkpr_over_days(start_date, total_days):\n",
    "    dates = generate_dates(start_date, total_days)\n",
    "    usd_data = {}\n",
    "\n",
    "    for date in dates:\n",
    "        data = fetch_usd_data_for_date(date)\n",
    "        \n",
    "        # 빈 배열인지 확인 (휴일인 경우)\n",
    "        if data and isinstance(data, list) and len(data) > 0:\n",
    "            # USD 데이터를 찾기\n",
    "            for entry in data:\n",
    "                if entry.get(\"cur_unit\") == \"USD\":\n",
    "                    usd_data[date] = entry.get(\"bkpr\")\n",
    "                    usd_data[date] = usd_data[date].replace(',', '') # 통화에서 쉽표 제거하기\n",
    "                    break  # USD 데이터를 찾으면 더 이상 탐색하지 않음\n",
    "        else:\n",
    "            # 휴일인 경우\n",
    "            print(f\"Data unavailable for {date} (possibly a holiday)\")\n",
    "\n",
    "    return usd_data"
   ]
  },
  {
   "cell_type": "code",
   "execution_count": 13,
   "id": "e255621f-f41f-4f9a-b0ab-434f76de6036",
   "metadata": {},
   "outputs": [
    {
     "name": "stdout",
     "output_type": "stream",
     "text": [
      "Data unavailable for 20241003 (possibly a holiday)\n",
      "USD bkpr values over the specified number of days:\n",
      "20241004: 1320\n",
      "20241002: 1306\n"
     ]
    }
   ],
   "source": [
    "# 시작 날짜를 설정 (2024년 10월 4일)\n",
    "start_date = datetime(2024, 10, 4)\n",
    "\n",
    "# 365 * 3일치 USD bkpr 데이터를 가져오기\n",
    "total_days = 3\n",
    "usd_bkpr_data = get_usd_bkpr_over_days(start_date, total_days)\n",
    "\n",
    "# # 결과 출력\n",
    "print(\"USD bkpr values over the specified number of days:\")\n",
    "for date, bkpr in usd_bkpr_data.items():\n",
    "    print(f\"{date}: {bkpr}\")"
   ]
  },
  {
   "cell_type": "code",
   "execution_count": null,
   "id": "ef71cc0a-bad3-47f7-a193-0c6b64e67586",
   "metadata": {},
   "outputs": [],
   "source": []
  },
  {
   "cell_type": "code",
   "execution_count": 14,
   "id": "f3bc044d-5f90-4681-a3f3-bd43e3b08e25",
   "metadata": {},
   "outputs": [
    {
     "data": {
      "text/plain": [
       "<sqlite3.Cursor at 0x106c31cc0>"
      ]
     },
     "execution_count": 14,
     "metadata": {},
     "output_type": "execute_result"
    }
   ],
   "source": [
    "import sqlite3\n",
    "import os\n",
    "\n",
    "# sqlite3db 디렉토리가 없으면 생성\n",
    "if not os.path.exists('sqlite3db'):\n",
    "    os.makedirs('sqlite3db')\n",
    "\n",
    "# sqlite3db 디렉토리 아래에 데이터베이스 파일 경로 설정\n",
    "db_path = os.path.join('sqlite3db', 'exchange_rates.db')\n",
    "\n",
    "# 데이터베이스 파일에 연결 (파일이 없으면 새로 생성됨)\n",
    "conn = sqlite3.connect(db_path)\n",
    "cursor = conn.cursor()\n",
    "\n",
    "# 테이블 생성 (존재하지 않으면 생성)\n",
    "# date를 PRIMARY KEY로 설정\n",
    "cursor.execute('''\n",
    "    CREATE TABLE IF NOT EXISTS exchange_rates (\n",
    "        date TEXT PRIMARY KEY,\n",
    "        currency TEXT,\n",
    "        bkpr REAL\n",
    "    )\n",
    "''')"
   ]
  },
  {
   "cell_type": "code",
   "execution_count": 15,
   "id": "19c1b07e-b57d-42fe-96d8-94ba5b4b27c1",
   "metadata": {},
   "outputs": [],
   "source": [
    "# 데이터를 테이블에 삽입하거나 중복 발생 시 업데이트하는 함수\n",
    "def insert_or_update_exchange_rate_data(data):\n",
    "    for date, bkpr in data.items():\n",
    "        # 중복된 date 값이 있을 경우 bkpr 값을 업데이트\n",
    "        cursor.execute('''\n",
    "            INSERT INTO exchange_rates (date, currency, bkpr)\n",
    "            VALUES (?, ?, ?)\n",
    "            ON CONFLICT(date) DO UPDATE SET bkpr=excluded.bkpr\n",
    "        ''', (date, 'USD', bkpr))"
   ]
  },
  {
   "cell_type": "code",
   "execution_count": 17,
   "id": "f4b155a1-1439-4ac4-984c-397edb0de4c8",
   "metadata": {},
   "outputs": [
    {
     "name": "stdout",
     "output_type": "stream",
     "text": [
      "Data unavailable for 20241003 (possibly a holiday)\n",
      "Data unavailable for 20241001 (possibly a holiday)\n",
      "Data unavailable for 20240929 (possibly a holiday)\n",
      "Data unavailable for 20240928 (possibly a holiday)\n",
      "Data unavailable for 20240922 (possibly a holiday)\n",
      "Data unavailable for 20240921 (possibly a holiday)\n",
      "Data unavailable for 20240918 (possibly a holiday)\n",
      "Data unavailable for 20240917 (possibly a holiday)\n",
      "Data unavailable for 20240916 (possibly a holiday)\n",
      "Data unavailable for 20240915 (possibly a holiday)\n",
      "Data unavailable for 20240914 (possibly a holiday)\n",
      "Data unavailable for 20240908 (possibly a holiday)\n",
      "Data unavailable for 20240907 (possibly a holiday)\n",
      "('20241004', 'USD', 1320.0)\n",
      "('20241002', 'USD', 1306.0)\n",
      "('20240930', 'USD', 1319.0)\n",
      "('20240927', 'USD', 1329.0)\n",
      "('20240926', 'USD', 1328.0)\n",
      "('20240925', 'USD', 1334.0)\n",
      "('20240924', 'USD', 1335.0)\n",
      "('20240923', 'USD', 1329.0)\n",
      "('20240920', 'USD', 1331.0)\n",
      "('20240919', 'USD', 1331.0)\n",
      "('20240913', 'USD', 1339.0)\n",
      "('20240912', 'USD', 1340.0)\n",
      "('20240911', 'USD', 1344.0)\n",
      "('20240910', 'USD', 1339.0)\n",
      "('20240909', 'USD', 1330.0)\n",
      "('20240906', 'USD', 1335.0)\n",
      "('20240905', 'USD', 1342.0)\n"
     ]
    }
   ],
   "source": [
    "# 시작 날짜를 설정 (2024년 10월 4일)\n",
    "start_date = datetime(2024, 10, 4)\n",
    "\n",
    "# get_usd_bkpr_over_days 함수로 365 * 3일에 해당하는 환율 정보 가져오기\n",
    "usd_bkpr_data = get_usd_bkpr_over_days(start_date, 30)\n",
    "\n",
    "# 테이블에 데이터 삽입 또는 업데이트\n",
    "insert_or_update_exchange_rate_data(usd_bkpr_data)\n",
    "\n",
    "# 변경사항 저장\n",
    "conn.commit()\n",
    "\n",
    "# 데이터 확인을 위해 조회\n",
    "cursor.execute('SELECT * FROM exchange_rates')\n",
    "rows = cursor.fetchall()\n",
    "\n",
    "# 결과 출력\n",
    "for row in rows:\n",
    "    print(row)\n",
    "\n",
    "# 연결 종료\n",
    "conn.close()"
   ]
  },
  {
   "cell_type": "code",
   "execution_count": null,
   "id": "ca0aba61-b48f-4cff-9607-008f4c6f15e8",
   "metadata": {},
   "outputs": [],
   "source": []
  },
  {
   "cell_type": "code",
   "execution_count": null,
   "id": "d4435831-d438-4153-b74c-b90378b556b8",
   "metadata": {},
   "outputs": [],
   "source": []
  }
 ],
 "metadata": {
  "kernelspec": {
   "display_name": "Python 3 (ipykernel)",
   "language": "python",
   "name": "python3"
  },
  "language_info": {
   "codemirror_mode": {
    "name": "ipython",
    "version": 3
   },
   "file_extension": ".py",
   "mimetype": "text/x-python",
   "name": "python",
   "nbconvert_exporter": "python",
   "pygments_lexer": "ipython3",
   "version": "3.11.7"
  }
 },
 "nbformat": 4,
 "nbformat_minor": 5
}
